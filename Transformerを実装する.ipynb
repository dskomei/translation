{
 "cells": [
  {
   "cell_type": "markdown",
   "id": "094aca8a-d537-4336-b173-6a30cc46260e",
   "metadata": {},
   "source": [
    "# Transformerを使った翻訳"
   ]
  },
  {
   "cell_type": "code",
   "execution_count": 3,
   "id": "1763cd7a-aefc-4db2-b33c-68d94e2c97b8",
   "metadata": {},
   "outputs": [],
   "source": [
    "from pathlib import Path\n",
    "import math\n",
    "import io\n",
    "import time\n",
    "from tqdm import tqdm\n",
    "import torch\n",
    "import torch.nn as nn\n",
    "from torch import Tensor\n",
    "from torch.nn import (\n",
    "    TransformerEncoder, TransformerDecoder,\n",
    "    TransformerEncoderLayer, TransformerDecoderLayer\n",
    ")\n",
    "from load_data import *"
   ]
  },
  {
   "cell_type": "code",
   "execution_count": 3,
   "id": "6ea0a72a-743b-4291-92d0-3dfa3377b8ac",
   "metadata": {},
   "outputs": [
    {
     "name": "stdout",
     "output_type": "stream",
     "text": [
      "The autoreload extension is already loaded. To reload it, use:\n",
      "  %reload_ext autoreload\n"
     ]
    }
   ],
   "source": [
    "%load_ext autoreload\n",
    "%autoreload 2"
   ]
  },
  {
   "cell_type": "markdown",
   "id": "4e663e28-a734-4471-af11-4d3587f14ea3",
   "metadata": {},
   "source": [
    "## パラメータの設定"
   ]
  },
  {
   "cell_type": "code",
   "execution_count": 5,
   "id": "4353aff0-c6cd-4094-ba27-04b49de6479a",
   "metadata": {},
   "outputs": [],
   "source": [
    "torch.manual_seed(0)\n",
    "torch.use_deterministic_algorithms(True)\n",
    "\n",
    "model_dir_path = Path('model')\n",
    "if not model_dir_path.exists():\n",
    "    model_dir_path.mkdir(parents=True)"
   ]
  },
  {
   "cell_type": "markdown",
   "id": "341b2b7d-ba33-4ee1-8817-3b9ca7b74b6b",
   "metadata": {},
   "source": [
    "## 関数定義"
   ]
  },
  {
   "cell_type": "markdown",
   "id": "11357502-9513-4ba6-a480-22e0d71dee23",
   "metadata": {},
   "source": [
    "### Transoformerの設定"
   ]
  },
  {
   "cell_type": "code",
   "execution_count": 7,
   "id": "fed238be-60fa-45c8-b39a-23090d729ead",
   "metadata": {},
   "outputs": [],
   "source": [
    "class Seq2SeqTransformer(nn.Module):\n",
    "    \n",
    "    def __init__(\n",
    "        self, num_encoder_layers: int, num_decoder_layers: int,\n",
    "        embedding_size: int, vocab_size_src: int, vocab_size_tgt: int,\n",
    "        dim_feedforward:int = 512, dropout:float = 0.1, nhead:int = 8\n",
    "    ):\n",
    "        \n",
    "        super(Seq2SeqTransformer, self).__init__()\n",
    "\n",
    "        self.token_embedding_src = TokenEmbedding(vocab_size_src, embedding_size)\n",
    "        self.positional_encoding = PositionalEncoding(embedding_size, dropout=dropout)\n",
    "        encoder_layer = TransformerEncoderLayer(\n",
    "            d_model=embedding_size, nhead=nhead, dim_feedforward=dim_feedforward\n",
    "        )\n",
    "        self.transformer_encoder = TransformerEncoder(encoder_layer, num_layers=num_encoder_layers)\n",
    "        \n",
    "        self.token_embedding_tgt = TokenEmbedding(vocab_size_tgt, embedding_size)\n",
    "        decoder_layer = TransformerDecoderLayer(\n",
    "            d_model=embedding_size, nhead=nhead, dim_feedforward=dim_feedforward\n",
    "        )\n",
    "        self.transformer_decoder = TransformerDecoder(decoder_layer, num_layers=num_decoder_layers)\n",
    "        \n",
    "        self.output = nn.Linear(embedding_size, vocab_size_tgt)\n",
    "\n",
    "    def forward(\n",
    "        self, src: Tensor, tgt: Tensor,\n",
    "        mask_src: Tensor, mask_tgt: Tensor,\n",
    "        padding_mask_src: Tensor, padding_mask_tgt: Tensor,\n",
    "        memory_key_padding_mask: Tensor\n",
    "    ):\n",
    "        \n",
    "        embedding_src = self.positional_encoding(self.token_embedding_src(src))\n",
    "        memory = self.transformer_encoder(embedding_src, mask_src, padding_mask_src)\n",
    "        embedding_tgt = self.positional_encoding(self.token_embedding_tgt(tgt))\n",
    "        outs = self.transformer_decoder(\n",
    "            embedding_tgt, memory, mask_tgt, None,\n",
    "            padding_mask_tgt, memory_key_padding_mask\n",
    "        )\n",
    "        return self.output(outs)\n",
    "\n",
    "    def encode(self, src: Tensor, mask_src: Tensor):\n",
    "        return self.transformer_encoder(self.positional_encoding(self.token_embedding_src(src)), mask_src)\n",
    "\n",
    "    def decode(self, tgt: Tensor, memory: Tensor, mask_tgt: Tensor):\n",
    "        return self.transformer_decoder(self.positional_encoding(self.token_embedding_tgt(tgt)), memory, mask_tgt)"
   ]
  },
  {
   "cell_type": "code",
   "execution_count": 8,
   "id": "e929de49-02cd-445a-b951-7a80644cfaa8",
   "metadata": {},
   "outputs": [],
   "source": [
    "class PositionalEncoding(nn.Module):\n",
    "    \n",
    "    def __init__(self, embedding_size: int, dropout: float, maxlen: int = 5000):\n",
    "        super(PositionalEncoding, self).__init__()\n",
    "        \n",
    "        den = torch.exp(-torch.arange(0, embedding_size, 2) * math.log(10000) / embedding_size)\n",
    "        pos = torch.arange(0, maxlen).reshape(maxlen, 1)\n",
    "        embedding_pos = torch.zeros((maxlen, embedding_size))\n",
    "        embedding_pos[:, 0::2] = torch.sin(pos * den)\n",
    "        embedding_pos[:, 1::2] = torch.cos(pos * den)\n",
    "        embedding_pos = embedding_pos.unsqueeze(-2)\n",
    "\n",
    "        self.dropout = nn.Dropout(dropout)\n",
    "        self.register_buffer('embedding_pos', embedding_pos)\n",
    "\n",
    "    def forward(self, token_embedding: Tensor):\n",
    "        return self.dropout(token_embedding + self.embedding_pos[: token_embedding.size(0), :])\n",
    "\n",
    "    \n",
    "class TokenEmbedding(nn.Module):\n",
    "    \n",
    "    def __init__(self, vocab_size, embedding_size):\n",
    "        \n",
    "        super(TokenEmbedding, self).__init__()\n",
    "        self.embedding = nn.Embedding(vocab_size, embedding_size)\n",
    "        self.embedding_size = embedding_size\n",
    "        \n",
    "    def forward(self, tokens: Tensor):\n",
    "        return self.embedding(tokens.long()) * math.sqrt(self.embedding_size)"
   ]
  },
  {
   "cell_type": "code",
   "execution_count": 9,
   "id": "775d3f7d-3a09-44c2-af73-6f9465e75847",
   "metadata": {},
   "outputs": [],
   "source": [
    "def generate_square_subsequent_mask(sz):\n",
    "    mask = (torch.triu(torch.ones((sz, sz), device=device)) == 1).transpose(0, 1)\n",
    "    mask = mask.float().masked_fill(mask == 0, float('-inf')).masked_fill(mask == 1, float(0.0))\n",
    "    return mask\n",
    "\n",
    "\n",
    "def create_mask(src, tgt, PAD_IDX):\n",
    "    \n",
    "    seq_len_src = src.shape[0]\n",
    "    seq_len_tgt = tgt.shape[0]\n",
    "\n",
    "    mask_tgt = generate_square_subsequent_mask(seq_len_tgt)\n",
    "    mask_src = torch.zeros((seq_len_src, seq_len_src), device=device).type(torch.bool)\n",
    "\n",
    "    padding_mask_src = (src == PAD_IDX).transpose(0, 1)\n",
    "    padding_mask_tgt = (tgt == PAD_IDX).transpose(0, 1)\n",
    "    \n",
    "    return mask_src, mask_tgt, padding_mask_src, padding_mask_tgt"
   ]
  },
  {
   "cell_type": "markdown",
   "id": "8d46f0de-7d5d-4c0a-93f9-90ae26af9420",
   "metadata": {},
   "source": [
    "### Transformerの学習"
   ]
  },
  {
   "cell_type": "code",
   "execution_count": 10,
   "id": "cfbb3953-280d-433b-aa84-a0b74545322a",
   "metadata": {},
   "outputs": [],
   "source": [
    "def train(model, data, optimizer, criterion, PAD_IDX):\n",
    "    \n",
    "    model.train()\n",
    "    losses = 0\n",
    "    for src, tgt in tqdm(data):\n",
    "        \n",
    "        src = src.to(device)\n",
    "        tgt = tgt.to(device)\n",
    "\n",
    "        input_tgt = tgt[:-1, :]\n",
    "\n",
    "        mask_src, mask_tgt, padding_mask_src, padding_mask_tgt = create_mask(src, input_tgt, PAD_IDX)\n",
    "\n",
    "        logits = model(\n",
    "            src=src, tgt=input_tgt,\n",
    "            mask_src=mask_src, mask_tgt=mask_tgt,\n",
    "            padding_mask_src=padding_mask_src, padding_mask_tgt=padding_mask_tgt,\n",
    "            memory_key_padding_mask=padding_mask_src\n",
    "        )\n",
    "\n",
    "        optimizer.zero_grad()\n",
    "\n",
    "        output_tgt = tgt[1:, :]\n",
    "        loss = criterion(logits.reshape(-1, logits.shape[-1]), output_tgt.reshape(-1))\n",
    "        loss.backward()\n",
    "\n",
    "        optimizer.step()\n",
    "        losses += loss.item()\n",
    "        \n",
    "    return losses / len(data)"
   ]
  },
  {
   "cell_type": "code",
   "execution_count": 11,
   "id": "978378c1-6d85-474a-9aa2-9908af866b97",
   "metadata": {},
   "outputs": [],
   "source": [
    "def evaluate(model, data, criterion, PAD_IDX):\n",
    "    \n",
    "    model.eval()\n",
    "    losses = 0\n",
    "    for src, tgt in data:\n",
    "        \n",
    "        src = src.to(device)\n",
    "        tgt = tgt.to(device)\n",
    "\n",
    "        input_tgt = tgt[:-1, :]\n",
    "\n",
    "        mask_src, mask_tgt, padding_mask_src, padding_mask_tgt = create_mask(src, input_tgt, PAD_IDX)\n",
    "\n",
    "        logits = model(\n",
    "            src=src, tgt=input_tgt,\n",
    "            mask_src=mask_src, mask_tgt=mask_tgt,\n",
    "            padding_mask_src=padding_mask_src, padding_mask_tgt=padding_mask_tgt,\n",
    "            memory_key_padding_mask=padding_mask_src\n",
    "        )\n",
    "        \n",
    "        output_tgt = tgt[1:, :]\n",
    "        loss = criterion(logits.reshape(-1, logits.shape[-1]), output_tgt.reshape(-1))\n",
    "        losses += loss.item()\n",
    "        \n",
    "    return losses / len(data)"
   ]
  },
  {
   "cell_type": "markdown",
   "id": "23df675a-f50c-4820-834a-8ff62a2950a3",
   "metadata": {},
   "source": [
    "### 翻訳の実行"
   ]
  },
  {
   "cell_type": "code",
   "execution_count": null,
   "id": "8b52ea41-0430-4a02-bec7-c7dc0b5aadd8",
   "metadata": {
    "tags": []
   },
   "outputs": [],
   "source": [
    "def translate(\n",
    "    model, text, vocab_src, vocab_tgt, tokenizer_src, seq_len_tgt,\n",
    "    START_IDX, END_IDX\n",
    "):\n",
    "    \n",
    "    model.eval()\n",
    "    tokens = [START_IDX] + [vocab_src.stoi[token] for token in tokenizer_src(text)] + [END_IDX]\n",
    "    num_tokens = len(tokens)\n",
    "    src = torch.LongTensor(tokens).reshape(num_tokens, 1)\n",
    "    mask_src = (torch.zeros(num_tokens, num_tokens)).type(torch.bool)\n",
    "    \n",
    "    predicts = greedy_decode(\n",
    "        model=model, src=src,\n",
    "        mask_src=mask_src, seq_len_tgt=seq_len_tgt,\n",
    "        START_IDX=START_IDX, END_IDX=END_IDX\n",
    "    ).flatten()\n",
    "    \n",
    "    return ' '.join([vocab_tgt.itos[token] for token in predicts]).replace(\"<start>\", \"\").replace(\"<end>\", \"\")\n",
    "\n",
    "\n",
    "def greedy_decode(model, src, mask_src, seq_len_tgt, START_IDX, END_IDX):\n",
    "    \n",
    "    src = src.to(device)\n",
    "    mask_src = mask_src.to(device)\n",
    "\n",
    "    memory = model.encode(src, mask_src)\n",
    "    memory = model.transformer_encoder(model.positional_encoding(model.token_embedding_src(src)), mask_src)\n",
    "    ys = torch.ones(1, 1).fill_(START_IDX).type(torch.long).to(device)\n",
    "    \n",
    "    for i in range(seq_len_tgt - 1):\n",
    "        \n",
    "        memory = memory.to(device)\n",
    "        memory_mask = torch.zeros(ys.shape[0], memory.shape[0]).to(device).type(torch.bool)\n",
    "        mask_tgt = (generate_square_subsequent_mask(ys.size(0)).type(torch.bool)).to(device)\n",
    "        \n",
    "        output = model.decode(ys, memory, mask_tgt)\n",
    "        output = output.transpose(0, 1)\n",
    "        output = model.output(output[:, -1])\n",
    "        _, next_word = torch.max(output, dim = 1)\n",
    "        next_word = next_word.item()\n",
    "\n",
    "        ys = torch.cat([ys, torch.ones(1, 1).type_as(src.data).fill_(next_word)], dim=0)\n",
    "        if next_word == END_IDX:\n",
    "            break\n",
    "            \n",
    "    return ys"
   ]
  },
  {
   "cell_type": "markdown",
   "id": "a230325e-791c-4365-bdc9-8a970a4ae2a3",
   "metadata": {},
   "source": [
    "## Transfomerを実行する"
   ]
  },
  {
   "cell_type": "code",
   "execution_count": 14,
   "id": "a6bd069f-245f-4ef1-8e6c-9131bd387fdd",
   "metadata": {},
   "outputs": [],
   "source": [
    "device = torch.device('cuda:0' if torch.cuda.is_available() else 'cpu')\n",
    "\n",
    "vocab_size_src = len(vocab_src)\n",
    "vocab_size_tgt = len(vocab_tgt)\n",
    "embedding_size = 240\n",
    "nhead = 8\n",
    "dim_feedforward = 100\n",
    "num_encoder_layers = 2\n",
    "num_decoder_layers = 2\n",
    "dropout = 0.1\n",
    "\n",
    "model = Seq2SeqTransformer(\n",
    "    num_encoder_layers=num_encoder_layers,\n",
    "    num_decoder_layers=num_decoder_layers,\n",
    "    embedding_size=embedding_size,\n",
    "    vocab_size_src=vocab_size_src, vocab_size_tgt=vocab_size_tgt,\n",
    "    dim_feedforward=dim_feedforward,\n",
    "    dropout=dropout, nhead=nhead\n",
    ")\n",
    "\n",
    "for p in model.parameters():\n",
    "    if p.dim() > 1:\n",
    "        nn.init.xavier_uniform_(p)\n",
    "\n",
    "model = model.to(device)\n",
    "\n",
    "criterion = torch.nn.CrossEntropyLoss(ignore_index=PAD_IDX)\n",
    "\n",
    "optimizer = torch.optim.Adam(model.parameters())"
   ]
  },
  {
   "cell_type": "code",
   "execution_count": 16,
   "id": "f96aa1f0-33db-4b7f-aa7c-d8185a99b3c2",
   "metadata": {},
   "outputs": [
    {
     "name": "stderr",
     "output_type": "stream",
     "text": [
      "100%|██████████| 227/227 [08:51<00:00,  2.34s/it]\n",
      "  0%|          | 0/227 [00:00<?, ?it/s]"
     ]
    },
    {
     "name": "stdout",
     "output_type": "stream",
     "text": [
      "[1/100] train loss: 4.16, valid loss: 2.78  [8m52s] **\n"
     ]
    },
    {
     "name": "stderr",
     "output_type": "stream",
     "text": [
      "100%|██████████| 227/227 [07:23<00:00,  1.96s/it]\n",
      "  0%|          | 0/227 [00:00<?, ?it/s]"
     ]
    },
    {
     "name": "stdout",
     "output_type": "stream",
     "text": [
      "[2/100] train loss: 2.41, valid loss: 2.13  [7m24s] **\n"
     ]
    },
    {
     "name": "stderr",
     "output_type": "stream",
     "text": [
      "100%|██████████| 227/227 [07:17<00:00,  1.93s/it]\n",
      "  0%|          | 0/227 [00:00<?, ?it/s]"
     ]
    },
    {
     "name": "stdout",
     "output_type": "stream",
     "text": [
      "[3/100] train loss: 1.75, valid loss: 1.90  [7m17s] **\n"
     ]
    },
    {
     "name": "stderr",
     "output_type": "stream",
     "text": [
      "100%|██████████| 227/227 [06:45<00:00,  1.79s/it]\n",
      "  0%|          | 0/227 [00:00<?, ?it/s]"
     ]
    },
    {
     "name": "stdout",
     "output_type": "stream",
     "text": [
      "[4/100] train loss: 1.34, valid loss: 1.88  [6m45s] **\n"
     ]
    },
    {
     "name": "stderr",
     "output_type": "stream",
     "text": [
      "100%|██████████| 227/227 [06:27<00:00,  1.71s/it]\n",
      "  0%|          | 0/227 [00:00<?, ?it/s]"
     ]
    },
    {
     "name": "stdout",
     "output_type": "stream",
     "text": [
      "[5/100] train loss: 1.06, valid loss: 1.89  [6m27s] \n"
     ]
    },
    {
     "name": "stderr",
     "output_type": "stream",
     "text": [
      "100%|██████████| 227/227 [06:26<00:00,  1.70s/it]\n",
      "  0%|          | 0/227 [00:00<?, ?it/s]"
     ]
    },
    {
     "name": "stdout",
     "output_type": "stream",
     "text": [
      "[6/100] train loss: 0.86, valid loss: 1.97  [6m27s] \n"
     ]
    },
    {
     "name": "stderr",
     "output_type": "stream",
     "text": [
      "100%|██████████| 227/227 [06:28<00:00,  1.71s/it]\n",
      "  0%|          | 0/227 [00:00<?, ?it/s]"
     ]
    },
    {
     "name": "stdout",
     "output_type": "stream",
     "text": [
      "[7/100] train loss: 0.72, valid loss: 2.02  [6m28s] \n"
     ]
    },
    {
     "name": "stderr",
     "output_type": "stream",
     "text": [
      "100%|██████████| 227/227 [06:28<00:00,  1.71s/it]\n",
      "  0%|          | 0/227 [00:00<?, ?it/s]"
     ]
    },
    {
     "name": "stdout",
     "output_type": "stream",
     "text": [
      "[8/100] train loss: 0.62, valid loss: 2.08  [6m29s] \n"
     ]
    },
    {
     "name": "stderr",
     "output_type": "stream",
     "text": [
      "100%|██████████| 227/227 [06:45<00:00,  1.79s/it]\n",
      "  0%|          | 0/227 [00:00<?, ?it/s]"
     ]
    },
    {
     "name": "stdout",
     "output_type": "stream",
     "text": [
      "[9/100] train loss: 0.54, valid loss: 2.18  [6m46s] \n"
     ]
    },
    {
     "name": "stderr",
     "output_type": "stream",
     "text": [
      "100%|██████████| 227/227 [09:43<00:00,  2.57s/it]\n",
      "  0%|          | 0/227 [00:00<?, ?it/s]"
     ]
    },
    {
     "name": "stdout",
     "output_type": "stream",
     "text": [
      "[10/100] train loss: 0.48, valid loss: 2.25  [9m43s] \n"
     ]
    },
    {
     "name": "stderr",
     "output_type": "stream",
     "text": [
      "100%|██████████| 227/227 [10:08<00:00,  2.68s/it]\n",
      "  0%|          | 0/227 [00:00<?, ?it/s]"
     ]
    },
    {
     "name": "stdout",
     "output_type": "stream",
     "text": [
      "[11/100] train loss: 0.43, valid loss: 2.32  [10m9s] \n"
     ]
    },
    {
     "name": "stderr",
     "output_type": "stream",
     "text": [
      "100%|██████████| 227/227 [10:04<00:00,  2.66s/it]\n",
      "  0%|          | 0/227 [00:00<?, ?it/s]"
     ]
    },
    {
     "name": "stdout",
     "output_type": "stream",
     "text": [
      "[12/100] train loss: 0.39, valid loss: 2.38  [10m4s] \n"
     ]
    },
    {
     "name": "stderr",
     "output_type": "stream",
     "text": [
      "100%|██████████| 227/227 [09:53<00:00,  2.61s/it]\n",
      "  0%|          | 0/227 [00:00<?, ?it/s]"
     ]
    },
    {
     "name": "stdout",
     "output_type": "stream",
     "text": [
      "[13/100] train loss: 0.36, valid loss: 2.45  [9m53s] \n"
     ]
    },
    {
     "name": "stderr",
     "output_type": "stream",
     "text": [
      "100%|██████████| 227/227 [09:44<00:00,  2.57s/it]\n",
      "  0%|          | 0/227 [00:00<?, ?it/s]"
     ]
    },
    {
     "name": "stdout",
     "output_type": "stream",
     "text": [
      "[14/100] train loss: 0.33, valid loss: 2.51  [9m44s] \n"
     ]
    },
    {
     "name": "stderr",
     "output_type": "stream",
     "text": [
      "100%|██████████| 227/227 [09:57<00:00,  2.63s/it]\n"
     ]
    },
    {
     "name": "stdout",
     "output_type": "stream",
     "text": [
      "[15/100] train loss: 0.31, valid loss: 2.59  [9m58s] \n"
     ]
    }
   ],
   "source": [
    "epoch = 100\n",
    "best_loss = float('Inf')\n",
    "best_model = None\n",
    "patience = 10\n",
    "counter = 0\n",
    "\n",
    "for loop in range(1, epoch + 1):\n",
    "    \n",
    "    start_time = time.time()\n",
    "    \n",
    "    loss_train = train(\n",
    "        model=model, data=train_iter, optimizer=optimizer,\n",
    "        criterion=criterion, PAD_IDX=PAD_IDX\n",
    "    )\n",
    "    \n",
    "    elapsed_time = time.time() - start_time\n",
    "    \n",
    "    loss_valid = evaluate(\n",
    "        model=model, data=valid_iter, criterion=criterion, PAD_IDX=PAD_IDX\n",
    "    )\n",
    "    \n",
    "    print('[{}/{}] train loss: {:.2f}, valid loss: {:.2f}  [{}{:.0f}s] count: {}, {}'.format(\n",
    "        loop, epoch,\n",
    "        loss_train, loss_valid,\n",
    "        str(int(math.floor(elapsed_time / 60))) + 'm' if math.floor(elapsed_time / 60) > 0 else '',\n",
    "        elapsed_time % 60,\n",
    "        counter,\n",
    "        '**' if best_loss > loss_valid else ''\n",
    "    ))\n",
    "    \n",
    "    if best_loss > loss_valid:\n",
    "        best_loss = loss_valid\n",
    "        best_model = model\n",
    "        counter = 0\n",
    "        \n",
    "    if counter > patience:\n",
    "        break\n",
    "    \n",
    "    counter += 1"
   ]
  },
  {
   "cell_type": "code",
   "execution_count": 21,
   "id": "f8f2eecd-321e-4296-9807-b70bd3b90951",
   "metadata": {},
   "outputs": [],
   "source": [
    "torch.save(best_model.state_dict(), model_dir_path.joinpath('translation_transfomer.pth'))"
   ]
  },
  {
   "cell_type": "markdown",
   "id": "6bc55c94-c200-4e1f-804f-ef0255d51f45",
   "metadata": {},
   "source": [
    "## 学習したモデルを使って翻訳をする"
   ]
  },
  {
   "cell_type": "code",
   "execution_count": 18,
   "id": "cdb6293c-d742-4620-b9bd-cbbcfb8354e0",
   "metadata": {},
   "outputs": [],
   "source": [
    "seq_len_tgt = max([len(x[1]) for x in train_data])"
   ]
  },
  {
   "cell_type": "code",
   "execution_count": 20,
   "id": "70b1def7-ce0d-408d-893d-0a8462da03b6",
   "metadata": {},
   "outputs": [
    {
     "data": {
      "text/plain": [
       "' A group of people stand in front of an igloo . '"
      ]
     },
     "execution_count": 20,
     "metadata": {},
     "output_type": "execute_result"
    }
   ],
   "source": [
    "text = 'Eine Gruppe von Menschen steht vor einem Iglu .'\n",
    "\n",
    "translate(\n",
    "    model=best_model, text=text, vocab_src=vocab_src, vocab_tgt=vocab_tgt,\n",
    "    tokenizer_src=tokenizer_src, seq_len_tgt=seq_len_tgt,\n",
    "    START_IDX=START_IDX, END_IDX=END_IDX\n",
    ")"
   ]
  },
  {
   "cell_type": "code",
   "execution_count": null,
   "id": "15a2250d-0c2d-413c-b213-60914113b7be",
   "metadata": {},
   "outputs": [],
   "source": []
  }
 ],
 "metadata": {
  "kernelspec": {
   "display_name": "Python 3",
   "language": "python",
   "name": "python3"
  },
  "language_info": {
   "codemirror_mode": {
    "name": "ipython",
    "version": 3
   },
   "file_extension": ".py",
   "mimetype": "text/x-python",
   "name": "python",
   "nbconvert_exporter": "python",
   "pygments_lexer": "ipython3",
   "version": "3.9.4"
  }
 },
 "nbformat": 4,
 "nbformat_minor": 5
}
