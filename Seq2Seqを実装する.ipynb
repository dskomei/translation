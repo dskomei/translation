{
 "cells": [
  {
   "cell_type": "markdown",
   "id": "8c84a4eb-d533-45ae-ba5d-49f636f681e5",
   "metadata": {},
   "source": [
    "# Pytorchを使ってSeq2Seqを実装する"
   ]
  },
  {
   "cell_type": "code",
   "execution_count": 8,
   "id": "380e2a7e-7f26-4852-b9b3-1e941013991a",
   "metadata": {},
   "outputs": [],
   "source": [
    "from pathlib import Path\n",
    "import time\n",
    "import math\n",
    "import pandas as pd\n",
    "import numpy as np\n",
    "from torch import optim\n",
    "import random\n",
    "import requests\n",
    "import zipfile\n",
    "import urllib\n",
    "import codecs\n",
    "import re\n",
    "import neologdn\n",
    "import unicodedata\n",
    "import MeCab\n",
    "from collections import Counter\n",
    "from tqdm import tqdm\n",
    "import torch\n",
    "import torch.nn as nn\n",
    "from torch.nn.utils.rnn import pad_sequence\n",
    "from torch.utils.data import DataLoader\n",
    "from torchtext.vocab import Vocab\n",
    "from load_data import *"
   ]
  },
  {
   "cell_type": "markdown",
   "id": "c6a5057d-f35a-47c3-8e10-a5cf14ba1581",
   "metadata": {},
   "source": [
    "## モデルの設定"
   ]
  },
  {
   "cell_type": "code",
   "execution_count": 9,
   "id": "b4ce8ed1-5c5a-43b6-b0fa-b370ab80dbc5",
   "metadata": {},
   "outputs": [],
   "source": [
    "class Encoder(nn.Module):\n",
    "    \n",
    "    def __init__(\n",
    "        self, vocab_size_src, embedding_dim, hidden_dim_enc, dropout, PAD_IDX\n",
    "    ):\n",
    "        \n",
    "        super().__init__()\n",
    "\n",
    "        self.vocab_size_src = vocab_size_src\n",
    "        \n",
    "        self.embedding = nn.Embedding(vocab_size_src, embedding_dim, padding_idx=PAD_IDX)\n",
    "        self.dropout = nn.Dropout(dropout)\n",
    "        self.rnn = nn.LSTM(embedding_dim, hidden_dim_enc)\n",
    "\n",
    "    def forward(self, src):\n",
    "\n",
    "        embedded = self.dropout(self.embedding(src))\n",
    "        _, state = self.rnn(embedded)\n",
    "        \n",
    "        return state"
   ]
  },
  {
   "cell_type": "code",
   "execution_count": 10,
   "id": "492371aa-d762-4ae1-8219-9bed5c83989f",
   "metadata": {},
   "outputs": [],
   "source": [
    "class Decoder(nn.Module):\n",
    "    \n",
    "    def __init__(\n",
    "        self, vocab_size_trg, embedding_dim, hidden_dim_dec, dropout, PAD_IDX\n",
    "    ):\n",
    "        \n",
    "        super().__init__()\n",
    "\n",
    "        self.vocab_size_trg = vocab_size_trg\n",
    "\n",
    "        self.embedding = nn.Embedding(vocab_size_trg, embedding_dim, padding_idx=PAD_IDX)\n",
    "        self.rnn = nn.LSTM(embedding_dim, hidden_dim_dec)\n",
    "        self.dropout = nn.Dropout(dropout)\n",
    "        self.out = nn.Linear(hidden_dim_dec, vocab_size_trg)\n",
    "\n",
    "    def forward(self, x, encoder_state):\n",
    "\n",
    "        x = x.unsqueeze(0)\n",
    "        embedded = self.dropout(self.embedding(x))\n",
    "        output, state = self.rnn(embedded, encoder_state)\n",
    "        output = self.out(output[0])\n",
    "\n",
    "        return output, state"
   ]
  },
  {
   "cell_type": "code",
   "execution_count": 11,
   "id": "e7e33205-40b1-43c2-854d-eb06bfad372c",
   "metadata": {},
   "outputs": [],
   "source": [
    "class Seq2Seq(nn.Module):\n",
    "    \n",
    "    def __init__(self, encoder, decoder):\n",
    "        \n",
    "        super().__init__()\n",
    "\n",
    "        self.encoder = encoder\n",
    "        self.decoder = decoder\n",
    "        \n",
    "    def forward(self, src, trg, teacher_forcing_ratio=0.5):\n",
    "\n",
    "        batch_size = src.shape[1]\n",
    "        seq_len = trg.shape[0]\n",
    "        vocab_size_trg = self.decoder.vocab_size_trg\n",
    "        \n",
    "        state = self.encoder(src)\n",
    "        \n",
    "        outputs = torch.zeros(seq_len, batch_size, vocab_size_trg)\n",
    "        output = trg[0, :]\n",
    "        for t in range(1, seq_len):\n",
    "            output, state = self.decoder(output, state)\n",
    "            outputs[t] = output\n",
    "            teacher_force = random.random() < teacher_forcing_ratio\n",
    "            output = trg[t] if teacher_force else output.max(1)[1]\n",
    "\n",
    "        return outputs"
   ]
  },
  {
   "cell_type": "code",
   "execution_count": 12,
   "id": "012a21a4-8e02-47a3-8b62-8df4ebf00e90",
   "metadata": {},
   "outputs": [],
   "source": [
    "def init_weights(m):\n",
    "    for name, param in m.named_parameters():\n",
    "        if 'weight' in name:\n",
    "            nn.init.normal_(param.data, mean=0, std=0.02)\n",
    "        else:\n",
    "            nn.init.constant_(param.data, 0)\n",
    "\n",
    "\n",
    "def count_parameters(model):\n",
    "    return sum(p.numel() for p in model.parameters() if p.requires_grad)\n"
   ]
  },
  {
   "cell_type": "code",
   "execution_count": 13,
   "id": "18579823-a3fc-4096-9ff6-3bc6547d4fc8",
   "metadata": {},
   "outputs": [],
   "source": [
    "def train(model, data, optimizer, criterion, clip):\n",
    "\n",
    "    model.train()\n",
    "\n",
    "    losses = []\n",
    "    for src, trg in tqdm(data):\n",
    "\n",
    "        optimizer.zero_grad()\n",
    "\n",
    "        output = model(src, trg)\n",
    "\n",
    "        output = output[1:].view(-1, output.shape[-1])\n",
    "        trg = trg[1:].view(-1)\n",
    "\n",
    "        loss = criterion(output, trg)\n",
    "        loss.backward()\n",
    "\n",
    "        torch.nn.utils.clip_grad_norm_(model.parameters(), clip)\n",
    "\n",
    "        optimizer.step()\n",
    "\n",
    "        losses.append(loss.item())\n",
    "\n",
    "    return np.mean(losses)\n",
    "\n",
    "\n",
    "def evaluate(model, data, criterion):\n",
    "\n",
    "    model.eval()\n",
    "\n",
    "    losses = []\n",
    "    with torch.no_grad():\n",
    "\n",
    "        for src, trg in data:\n",
    "\n",
    "            output = model(src, trg, 0)\n",
    "\n",
    "            output = output[1:].view(-1, output.shape[-1])\n",
    "            trg = trg[1:].view(-1)\n",
    "\n",
    "            loss = criterion(output, trg)\n",
    "\n",
    "            losses.append(loss.item())\n",
    "\n",
    "    return np.mean(losses)"
   ]
  },
  {
   "cell_type": "markdown",
   "id": "d984f400-9d51-4115-ae9c-65ace82e95fb",
   "metadata": {},
   "source": [
    "## SeqSeq2の実行"
   ]
  },
  {
   "cell_type": "code",
   "execution_count": 15,
   "id": "172ba2df-2f82-4b84-84c3-7c00116b5219",
   "metadata": {},
   "outputs": [],
   "source": [
    "embedding_dim_enc = 32\n",
    "embedding_dim_dec = 32\n",
    "hidden_dim_enc = 64\n",
    "hidden_dim_dec = 64\n",
    "dropout_enc = 0.5\n",
    "dropout_dec = 0.5\n",
    "vocab_size_src = len(de_vocab)\n",
    "vocab_size_trg = len(en_vocab)\n",
    "\n",
    "encoder = Encoder(\n",
    "    vocab_size_src=vocab_size_src, \n",
    "    embedding_dim=embedding_dim_enc, \n",
    "    hidden_dim_enc=hidden_dim_enc,\n",
    "    dropout=dropout_enc,\n",
    "    PAD_IDX=PAD_IDX\n",
    ")\n",
    "\n",
    "decoder = Decoder(\n",
    "    vocab_size_trg=vocab_size_trg, \n",
    "    embedding_dim=embedding_dim_dec,\n",
    "    hidden_dim_dec=hidden_dim_dec, \n",
    "    dropout=dropout_dec,\n",
    "    PAD_IDX=PAD_IDX\n",
    ")\n",
    "\n",
    "model = Seq2Seq(encoder=encoder, decoder=decoder)\n",
    "model.apply(init_weights)\n",
    "optimizer = optim.Adam(model.parameters())"
   ]
  },
  {
   "cell_type": "code",
   "execution_count": 16,
   "id": "63778cbb-1909-4abd-9afd-3c24487ea9d1",
   "metadata": {},
   "outputs": [
    {
     "name": "stderr",
     "output_type": "stream",
     "text": [
      "100%|██████████| 227/227 [09:14<00:00,  2.44s/it]\n",
      "  0%|          | 0/227 [00:00<?, ?it/s]"
     ]
    },
    {
     "name": "stdout",
     "output_type": "stream",
     "text": [
      "[1/100] train loss: 6.04, valid loss: 5.35  [9m15s] **\n"
     ]
    },
    {
     "name": "stderr",
     "output_type": "stream",
     "text": [
      "100%|██████████| 227/227 [09:08<00:00,  2.41s/it]\n",
      "  0%|          | 0/227 [00:00<?, ?it/s]"
     ]
    },
    {
     "name": "stdout",
     "output_type": "stream",
     "text": [
      "[2/100] train loss: 5.24, valid loss: 5.22  [9m8s] **\n"
     ]
    },
    {
     "name": "stderr",
     "output_type": "stream",
     "text": [
      "100%|██████████| 227/227 [09:03<00:00,  2.39s/it]\n",
      "  0%|          | 0/227 [00:00<?, ?it/s]"
     ]
    },
    {
     "name": "stdout",
     "output_type": "stream",
     "text": [
      "[3/100] train loss: 5.09, valid loss: 5.13  [9m3s] **\n"
     ]
    },
    {
     "name": "stderr",
     "output_type": "stream",
     "text": [
      "100%|██████████| 227/227 [09:02<00:00,  2.39s/it]\n",
      "  0%|          | 0/227 [00:00<?, ?it/s]"
     ]
    },
    {
     "name": "stdout",
     "output_type": "stream",
     "text": [
      "[4/100] train loss: 4.98, valid loss: 5.09  [9m3s] **\n"
     ]
    },
    {
     "name": "stderr",
     "output_type": "stream",
     "text": [
      "100%|██████████| 227/227 [08:56<00:00,  2.36s/it]\n",
      "  0%|          | 0/227 [00:00<?, ?it/s]"
     ]
    },
    {
     "name": "stdout",
     "output_type": "stream",
     "text": [
      "[5/100] train loss: 4.90, valid loss: 5.08  [8m56s] **\n"
     ]
    },
    {
     "name": "stderr",
     "output_type": "stream",
     "text": [
      "100%|██████████| 227/227 [08:50<00:00,  2.34s/it]\n",
      "  0%|          | 0/227 [00:00<?, ?it/s]"
     ]
    },
    {
     "name": "stdout",
     "output_type": "stream",
     "text": [
      "[6/100] train loss: 4.79, valid loss: 5.11  [8m51s] \n"
     ]
    },
    {
     "name": "stderr",
     "output_type": "stream",
     "text": [
      "100%|██████████| 227/227 [08:55<00:00,  2.36s/it]\n",
      "  0%|          | 0/227 [00:00<?, ?it/s]"
     ]
    },
    {
     "name": "stdout",
     "output_type": "stream",
     "text": [
      "[7/100] train loss: 4.72, valid loss: 5.04  [8m55s] **\n"
     ]
    },
    {
     "name": "stderr",
     "output_type": "stream",
     "text": [
      "100%|██████████| 227/227 [09:54<00:00,  2.62s/it]\n",
      "  0%|          | 0/227 [00:00<?, ?it/s]"
     ]
    },
    {
     "name": "stdout",
     "output_type": "stream",
     "text": [
      "[8/100] train loss: 4.65, valid loss: 5.04  [9m55s] **\n"
     ]
    },
    {
     "name": "stderr",
     "output_type": "stream",
     "text": [
      "100%|██████████| 227/227 [08:38<00:00,  2.28s/it]\n",
      "  0%|          | 0/227 [00:00<?, ?it/s]"
     ]
    },
    {
     "name": "stdout",
     "output_type": "stream",
     "text": [
      "[9/100] train loss: 4.60, valid loss: 5.01  [8m39s] **\n"
     ]
    },
    {
     "name": "stderr",
     "output_type": "stream",
     "text": [
      "100%|██████████| 227/227 [08:38<00:00,  2.29s/it]\n",
      "  0%|          | 0/227 [00:00<?, ?it/s]"
     ]
    },
    {
     "name": "stdout",
     "output_type": "stream",
     "text": [
      "[10/100] train loss: 4.54, valid loss: 5.00  [8m39s] **\n"
     ]
    },
    {
     "name": "stderr",
     "output_type": "stream",
     "text": [
      "100%|██████████| 227/227 [08:41<00:00,  2.30s/it]\n",
      "  0%|          | 0/227 [00:00<?, ?it/s]"
     ]
    },
    {
     "name": "stdout",
     "output_type": "stream",
     "text": [
      "[11/100] train loss: 4.49, valid loss: 4.95  [8m42s] **\n"
     ]
    },
    {
     "name": "stderr",
     "output_type": "stream",
     "text": [
      "100%|██████████| 227/227 [08:42<00:00,  2.30s/it]\n",
      "  0%|          | 0/227 [00:00<?, ?it/s]"
     ]
    },
    {
     "name": "stdout",
     "output_type": "stream",
     "text": [
      "[12/100] train loss: 4.42, valid loss: 4.92  [8m43s] **\n"
     ]
    },
    {
     "name": "stderr",
     "output_type": "stream",
     "text": [
      "100%|██████████| 227/227 [08:41<00:00,  2.30s/it]\n",
      "  0%|          | 0/227 [00:00<?, ?it/s]"
     ]
    },
    {
     "name": "stdout",
     "output_type": "stream",
     "text": [
      "[13/100] train loss: 4.39, valid loss: 4.92  [8m41s] \n"
     ]
    },
    {
     "name": "stderr",
     "output_type": "stream",
     "text": [
      "100%|██████████| 227/227 [08:42<00:00,  2.30s/it]\n",
      "  0%|          | 0/227 [00:00<?, ?it/s]"
     ]
    },
    {
     "name": "stdout",
     "output_type": "stream",
     "text": [
      "[14/100] train loss: 4.34, valid loss: 4.88  [8m43s] **\n"
     ]
    },
    {
     "name": "stderr",
     "output_type": "stream",
     "text": [
      "100%|██████████| 227/227 [08:44<00:00,  2.31s/it]\n",
      "  0%|          | 0/227 [00:00<?, ?it/s]"
     ]
    },
    {
     "name": "stdout",
     "output_type": "stream",
     "text": [
      "[15/100] train loss: 4.28, valid loss: 4.87  [8m44s] **\n"
     ]
    },
    {
     "name": "stderr",
     "output_type": "stream",
     "text": [
      "100%|██████████| 227/227 [08:47<00:00,  2.32s/it]\n",
      "  0%|          | 0/227 [00:00<?, ?it/s]"
     ]
    },
    {
     "name": "stdout",
     "output_type": "stream",
     "text": [
      "[16/100] train loss: 4.25, valid loss: 4.88  [8m47s] \n"
     ]
    },
    {
     "name": "stderr",
     "output_type": "stream",
     "text": [
      "100%|██████████| 227/227 [08:40<00:00,  2.29s/it]\n",
      "  0%|          | 0/227 [00:00<?, ?it/s]"
     ]
    },
    {
     "name": "stdout",
     "output_type": "stream",
     "text": [
      "[17/100] train loss: 4.21, valid loss: 4.86  [8m40s] **\n"
     ]
    },
    {
     "name": "stderr",
     "output_type": "stream",
     "text": [
      "100%|██████████| 227/227 [08:38<00:00,  2.28s/it]\n",
      "  0%|          | 0/227 [00:00<?, ?it/s]"
     ]
    },
    {
     "name": "stdout",
     "output_type": "stream",
     "text": [
      "[18/100] train loss: 4.20, valid loss: 4.83  [8m38s] **\n"
     ]
    },
    {
     "name": "stderr",
     "output_type": "stream",
     "text": [
      "100%|██████████| 227/227 [08:35<00:00,  2.27s/it]\n",
      "  0%|          | 0/227 [00:00<?, ?it/s]"
     ]
    },
    {
     "name": "stdout",
     "output_type": "stream",
     "text": [
      "[19/100] train loss: 4.17, valid loss: 4.86  [8m35s] \n"
     ]
    },
    {
     "name": "stderr",
     "output_type": "stream",
     "text": [
      "100%|██████████| 227/227 [08:43<00:00,  2.30s/it]\n",
      "  0%|          | 0/227 [00:00<?, ?it/s]"
     ]
    },
    {
     "name": "stdout",
     "output_type": "stream",
     "text": [
      "[20/100] train loss: 4.14, valid loss: 4.81  [8m43s] **\n"
     ]
    },
    {
     "name": "stderr",
     "output_type": "stream",
     "text": [
      "100%|██████████| 227/227 [08:41<00:00,  2.30s/it]\n",
      "  0%|          | 0/227 [00:00<?, ?it/s]"
     ]
    },
    {
     "name": "stdout",
     "output_type": "stream",
     "text": [
      "[21/100] train loss: 4.12, valid loss: 4.80  [8m41s] **\n"
     ]
    },
    {
     "name": "stderr",
     "output_type": "stream",
     "text": [
      "100%|██████████| 227/227 [08:42<00:00,  2.30s/it]\n",
      "  0%|          | 0/227 [00:00<?, ?it/s]"
     ]
    },
    {
     "name": "stdout",
     "output_type": "stream",
     "text": [
      "[22/100] train loss: 4.10, valid loss: 4.81  [8m42s] \n"
     ]
    },
    {
     "name": "stderr",
     "output_type": "stream",
     "text": [
      "100%|██████████| 227/227 [08:43<00:00,  2.31s/it]\n",
      "  0%|          | 0/227 [00:00<?, ?it/s]"
     ]
    },
    {
     "name": "stdout",
     "output_type": "stream",
     "text": [
      "[23/100] train loss: 4.08, valid loss: 4.83  [8m43s] \n"
     ]
    },
    {
     "name": "stderr",
     "output_type": "stream",
     "text": [
      "100%|██████████| 227/227 [08:43<00:00,  2.31s/it]\n",
      "  0%|          | 0/227 [00:00<?, ?it/s]"
     ]
    },
    {
     "name": "stdout",
     "output_type": "stream",
     "text": [
      "[24/100] train loss: 4.05, valid loss: 4.80  [8m44s] \n"
     ]
    },
    {
     "name": "stderr",
     "output_type": "stream",
     "text": [
      "100%|██████████| 227/227 [08:44<00:00,  2.31s/it]\n",
      "  0%|          | 0/227 [00:00<?, ?it/s]"
     ]
    },
    {
     "name": "stdout",
     "output_type": "stream",
     "text": [
      "[25/100] train loss: 4.03, valid loss: 4.76  [8m45s] **\n"
     ]
    },
    {
     "name": "stderr",
     "output_type": "stream",
     "text": [
      "100%|██████████| 227/227 [08:39<00:00,  2.29s/it]\n",
      "  0%|          | 0/227 [00:00<?, ?it/s]"
     ]
    },
    {
     "name": "stdout",
     "output_type": "stream",
     "text": [
      "[26/100] train loss: 4.01, valid loss: 4.76  [8m40s] **\n"
     ]
    },
    {
     "name": "stderr",
     "output_type": "stream",
     "text": [
      "100%|██████████| 227/227 [09:03<00:00,  2.39s/it]\n",
      "  0%|          | 0/227 [00:00<?, ?it/s]"
     ]
    },
    {
     "name": "stdout",
     "output_type": "stream",
     "text": [
      "[27/100] train loss: 3.98, valid loss: 4.73  [9m4s] **\n"
     ]
    },
    {
     "name": "stderr",
     "output_type": "stream",
     "text": [
      "100%|██████████| 227/227 [08:35<00:00,  2.27s/it]\n",
      "  0%|          | 0/227 [00:00<?, ?it/s]"
     ]
    },
    {
     "name": "stdout",
     "output_type": "stream",
     "text": [
      "[28/100] train loss: 3.95, valid loss: 4.71  [8m36s] **\n"
     ]
    },
    {
     "name": "stderr",
     "output_type": "stream",
     "text": [
      "100%|██████████| 227/227 [08:41<00:00,  2.30s/it]\n",
      "  0%|          | 0/227 [00:00<?, ?it/s]"
     ]
    },
    {
     "name": "stdout",
     "output_type": "stream",
     "text": [
      "[29/100] train loss: 3.93, valid loss: 4.71  [8m41s] \n"
     ]
    },
    {
     "name": "stderr",
     "output_type": "stream",
     "text": [
      "100%|██████████| 227/227 [08:39<00:00,  2.29s/it]\n",
      "  0%|          | 0/227 [00:00<?, ?it/s]"
     ]
    },
    {
     "name": "stdout",
     "output_type": "stream",
     "text": [
      "[30/100] train loss: 3.90, valid loss: 4.69  [8m39s] **\n"
     ]
    },
    {
     "name": "stderr",
     "output_type": "stream",
     "text": [
      "100%|██████████| 227/227 [08:49<00:00,  2.33s/it]\n",
      "  0%|          | 0/227 [00:00<?, ?it/s]"
     ]
    },
    {
     "name": "stdout",
     "output_type": "stream",
     "text": [
      "[31/100] train loss: 3.87, valid loss: 4.67  [8m49s] **\n"
     ]
    },
    {
     "name": "stderr",
     "output_type": "stream",
     "text": [
      "100%|██████████| 227/227 [09:13<00:00,  2.44s/it]\n",
      "  0%|          | 0/227 [00:00<?, ?it/s]"
     ]
    },
    {
     "name": "stdout",
     "output_type": "stream",
     "text": [
      "[32/100] train loss: 3.86, valid loss: 4.67  [9m13s] \n"
     ]
    },
    {
     "name": "stderr",
     "output_type": "stream",
     "text": [
      "100%|██████████| 227/227 [08:56<00:00,  2.36s/it]\n",
      "  0%|          | 0/227 [00:00<?, ?it/s]"
     ]
    },
    {
     "name": "stdout",
     "output_type": "stream",
     "text": [
      "[33/100] train loss: 3.82, valid loss: 4.63  [8m56s] **\n"
     ]
    },
    {
     "name": "stderr",
     "output_type": "stream",
     "text": [
      "100%|██████████| 227/227 [09:00<00:00,  2.38s/it]\n",
      "  0%|          | 0/227 [00:00<?, ?it/s]"
     ]
    },
    {
     "name": "stdout",
     "output_type": "stream",
     "text": [
      "[34/100] train loss: 3.81, valid loss: 4.60  [9m0s] **\n"
     ]
    },
    {
     "name": "stderr",
     "output_type": "stream",
     "text": [
      "100%|██████████| 227/227 [08:54<00:00,  2.36s/it]\n",
      "  0%|          | 0/227 [00:00<?, ?it/s]"
     ]
    },
    {
     "name": "stdout",
     "output_type": "stream",
     "text": [
      "[35/100] train loss: 3.78, valid loss: 4.60  [8m55s] **\n"
     ]
    },
    {
     "name": "stderr",
     "output_type": "stream",
     "text": [
      "100%|██████████| 227/227 [09:49<00:00,  2.60s/it]\n",
      "  0%|          | 0/227 [00:00<?, ?it/s]"
     ]
    },
    {
     "name": "stdout",
     "output_type": "stream",
     "text": [
      "[36/100] train loss: 3.75, valid loss: 4.60  [9m50s] **\n"
     ]
    },
    {
     "name": "stderr",
     "output_type": "stream",
     "text": [
      "100%|██████████| 227/227 [09:14<00:00,  2.44s/it]\n",
      "  0%|          | 0/227 [00:00<?, ?it/s]"
     ]
    },
    {
     "name": "stdout",
     "output_type": "stream",
     "text": [
      "[37/100] train loss: 3.72, valid loss: 4.57  [9m15s] **\n"
     ]
    },
    {
     "name": "stderr",
     "output_type": "stream",
     "text": [
      "100%|██████████| 227/227 [08:52<00:00,  2.34s/it]\n",
      "  0%|          | 0/227 [00:00<?, ?it/s]"
     ]
    },
    {
     "name": "stdout",
     "output_type": "stream",
     "text": [
      "[38/100] train loss: 3.71, valid loss: 4.58  [8m52s] \n"
     ]
    },
    {
     "name": "stderr",
     "output_type": "stream",
     "text": [
      "100%|██████████| 227/227 [09:02<00:00,  2.39s/it]\n",
      "  0%|          | 0/227 [00:00<?, ?it/s]"
     ]
    },
    {
     "name": "stdout",
     "output_type": "stream",
     "text": [
      "[39/100] train loss: 3.68, valid loss: 4.58  [9m2s] \n"
     ]
    },
    {
     "name": "stderr",
     "output_type": "stream",
     "text": [
      "100%|██████████| 227/227 [09:16<00:00,  2.45s/it]\n",
      "  0%|          | 0/227 [00:00<?, ?it/s]"
     ]
    },
    {
     "name": "stdout",
     "output_type": "stream",
     "text": [
      "[40/100] train loss: 3.66, valid loss: 4.57  [9m16s] **\n"
     ]
    },
    {
     "name": "stderr",
     "output_type": "stream",
     "text": [
      "100%|██████████| 227/227 [09:21<00:00,  2.47s/it]\n",
      "  0%|          | 0/227 [00:00<?, ?it/s]"
     ]
    },
    {
     "name": "stdout",
     "output_type": "stream",
     "text": [
      "[41/100] train loss: 3.66, valid loss: 4.54  [9m21s] **\n"
     ]
    },
    {
     "name": "stderr",
     "output_type": "stream",
     "text": [
      "100%|██████████| 227/227 [09:28<00:00,  2.50s/it]\n",
      "  0%|          | 0/227 [00:00<?, ?it/s]"
     ]
    },
    {
     "name": "stdout",
     "output_type": "stream",
     "text": [
      "[42/100] train loss: 3.62, valid loss: 4.53  [9m28s] **\n"
     ]
    },
    {
     "name": "stderr",
     "output_type": "stream",
     "text": [
      "100%|██████████| 227/227 [09:41<00:00,  2.56s/it]\n",
      "  0%|          | 0/227 [00:00<?, ?it/s]"
     ]
    },
    {
     "name": "stdout",
     "output_type": "stream",
     "text": [
      "[43/100] train loss: 3.59, valid loss: 4.54  [9m41s] \n"
     ]
    },
    {
     "name": "stderr",
     "output_type": "stream",
     "text": [
      "100%|██████████| 227/227 [08:57<00:00,  2.37s/it]\n",
      "  0%|          | 0/227 [00:00<?, ?it/s]"
     ]
    },
    {
     "name": "stdout",
     "output_type": "stream",
     "text": [
      "[44/100] train loss: 3.59, valid loss: 4.51  [8m57s] **\n"
     ]
    },
    {
     "name": "stderr",
     "output_type": "stream",
     "text": [
      "100%|██████████| 227/227 [09:04<00:00,  2.40s/it]\n",
      "  0%|          | 0/227 [00:00<?, ?it/s]"
     ]
    },
    {
     "name": "stdout",
     "output_type": "stream",
     "text": [
      "[45/100] train loss: 3.58, valid loss: 4.46  [9m4s] **\n"
     ]
    },
    {
     "name": "stderr",
     "output_type": "stream",
     "text": [
      "100%|██████████| 227/227 [09:08<00:00,  2.42s/it]\n",
      "  0%|          | 0/227 [00:00<?, ?it/s]"
     ]
    },
    {
     "name": "stdout",
     "output_type": "stream",
     "text": [
      "[46/100] train loss: 3.54, valid loss: 4.49  [9m9s] \n"
     ]
    },
    {
     "name": "stderr",
     "output_type": "stream",
     "text": [
      "100%|██████████| 227/227 [09:20<00:00,  2.47s/it]\n",
      "  0%|          | 0/227 [00:00<?, ?it/s]"
     ]
    },
    {
     "name": "stdout",
     "output_type": "stream",
     "text": [
      "[47/100] train loss: 3.55, valid loss: 4.49  [9m21s] \n"
     ]
    },
    {
     "name": "stderr",
     "output_type": "stream",
     "text": [
      "100%|██████████| 227/227 [09:16<00:00,  2.45s/it]\n",
      "  0%|          | 0/227 [00:00<?, ?it/s]"
     ]
    },
    {
     "name": "stdout",
     "output_type": "stream",
     "text": [
      "[48/100] train loss: 3.49, valid loss: 4.48  [9m17s] \n"
     ]
    },
    {
     "name": "stderr",
     "output_type": "stream",
     "text": [
      "100%|██████████| 227/227 [09:44<00:00,  2.57s/it]\n",
      "  0%|          | 0/227 [00:00<?, ?it/s]"
     ]
    },
    {
     "name": "stdout",
     "output_type": "stream",
     "text": [
      "[49/100] train loss: 3.49, valid loss: 4.48  [9m44s] \n"
     ]
    },
    {
     "name": "stderr",
     "output_type": "stream",
     "text": [
      "100%|██████████| 227/227 [09:37<00:00,  2.54s/it]\n",
      "  0%|          | 0/227 [00:00<?, ?it/s]"
     ]
    },
    {
     "name": "stdout",
     "output_type": "stream",
     "text": [
      "[50/100] train loss: 3.48, valid loss: 4.44  [9m37s] **\n"
     ]
    },
    {
     "name": "stderr",
     "output_type": "stream",
     "text": [
      "100%|██████████| 227/227 [09:50<00:00,  2.60s/it]\n",
      "  0%|          | 0/227 [00:00<?, ?it/s]"
     ]
    },
    {
     "name": "stdout",
     "output_type": "stream",
     "text": [
      "[51/100] train loss: 3.46, valid loss: 4.45  [9m50s] \n"
     ]
    },
    {
     "name": "stderr",
     "output_type": "stream",
     "text": [
      "100%|██████████| 227/227 [09:50<00:00,  2.60s/it]\n",
      "  0%|          | 0/227 [00:00<?, ?it/s]"
     ]
    },
    {
     "name": "stdout",
     "output_type": "stream",
     "text": [
      "[52/100] train loss: 3.45, valid loss: 4.45  [9m51s] \n"
     ]
    },
    {
     "name": "stderr",
     "output_type": "stream",
     "text": [
      "100%|██████████| 227/227 [10:00<00:00,  2.65s/it]\n",
      "  0%|          | 0/227 [00:00<?, ?it/s]"
     ]
    },
    {
     "name": "stdout",
     "output_type": "stream",
     "text": [
      "[53/100] train loss: 3.42, valid loss: 4.45  [10m1s] \n"
     ]
    },
    {
     "name": "stderr",
     "output_type": "stream",
     "text": [
      "100%|██████████| 227/227 [10:04<00:00,  2.66s/it]\n",
      "  0%|          | 0/227 [00:00<?, ?it/s]"
     ]
    },
    {
     "name": "stdout",
     "output_type": "stream",
     "text": [
      "[54/100] train loss: 3.42, valid loss: 4.42  [10m4s] **\n"
     ]
    },
    {
     "name": "stderr",
     "output_type": "stream",
     "text": [
      "100%|██████████| 227/227 [10:09<00:00,  2.69s/it]\n",
      "  0%|          | 0/227 [00:00<?, ?it/s]"
     ]
    },
    {
     "name": "stdout",
     "output_type": "stream",
     "text": [
      "[55/100] train loss: 3.41, valid loss: 4.40  [10m10s] **\n"
     ]
    },
    {
     "name": "stderr",
     "output_type": "stream",
     "text": [
      "100%|██████████| 227/227 [10:00<00:00,  2.65s/it]\n",
      "  0%|          | 0/227 [00:00<?, ?it/s]"
     ]
    },
    {
     "name": "stdout",
     "output_type": "stream",
     "text": [
      "[56/100] train loss: 3.37, valid loss: 4.42  [10m1s] \n"
     ]
    },
    {
     "name": "stderr",
     "output_type": "stream",
     "text": [
      "100%|██████████| 227/227 [10:05<00:00,  2.67s/it]\n",
      "  0%|          | 0/227 [00:00<?, ?it/s]"
     ]
    },
    {
     "name": "stdout",
     "output_type": "stream",
     "text": [
      "[57/100] train loss: 3.40, valid loss: 4.39  [10m6s] **\n"
     ]
    },
    {
     "name": "stderr",
     "output_type": "stream",
     "text": [
      "100%|██████████| 227/227 [09:54<00:00,  2.62s/it]\n",
      "  0%|          | 0/227 [00:00<?, ?it/s]"
     ]
    },
    {
     "name": "stdout",
     "output_type": "stream",
     "text": [
      "[58/100] train loss: 3.37, valid loss: 4.44  [9m55s] \n"
     ]
    },
    {
     "name": "stderr",
     "output_type": "stream",
     "text": [
      "100%|██████████| 227/227 [09:51<00:00,  2.61s/it]\n",
      "  0%|          | 0/227 [00:00<?, ?it/s]"
     ]
    },
    {
     "name": "stdout",
     "output_type": "stream",
     "text": [
      "[59/100] train loss: 3.36, valid loss: 4.40  [9m52s] \n"
     ]
    },
    {
     "name": "stderr",
     "output_type": "stream",
     "text": [
      "100%|██████████| 227/227 [09:48<00:00,  2.59s/it]\n",
      "  0%|          | 0/227 [00:00<?, ?it/s]"
     ]
    },
    {
     "name": "stdout",
     "output_type": "stream",
     "text": [
      "[60/100] train loss: 3.35, valid loss: 4.42  [9m49s] \n"
     ]
    },
    {
     "name": "stderr",
     "output_type": "stream",
     "text": [
      "100%|██████████| 227/227 [09:38<00:00,  2.55s/it]\n",
      "  0%|          | 0/227 [00:00<?, ?it/s]"
     ]
    },
    {
     "name": "stdout",
     "output_type": "stream",
     "text": [
      "[61/100] train loss: 3.34, valid loss: 4.37  [9m39s] **\n"
     ]
    },
    {
     "name": "stderr",
     "output_type": "stream",
     "text": [
      "100%|██████████| 227/227 [09:30<00:00,  2.51s/it]\n",
      "  0%|          | 0/227 [00:00<?, ?it/s]"
     ]
    },
    {
     "name": "stdout",
     "output_type": "stream",
     "text": [
      "[62/100] train loss: 3.35, valid loss: 4.34  [9m31s] **\n"
     ]
    },
    {
     "name": "stderr",
     "output_type": "stream",
     "text": [
      "100%|██████████| 227/227 [09:21<00:00,  2.47s/it]\n",
      "  0%|          | 0/227 [00:00<?, ?it/s]"
     ]
    },
    {
     "name": "stdout",
     "output_type": "stream",
     "text": [
      "[63/100] train loss: 3.30, valid loss: 4.40  [9m21s] \n"
     ]
    },
    {
     "name": "stderr",
     "output_type": "stream",
     "text": [
      "100%|██████████| 227/227 [09:04<00:00,  2.40s/it]\n",
      "  0%|          | 0/227 [00:00<?, ?it/s]"
     ]
    },
    {
     "name": "stdout",
     "output_type": "stream",
     "text": [
      "[64/100] train loss: 3.28, valid loss: 4.39  [9m5s] \n"
     ]
    },
    {
     "name": "stderr",
     "output_type": "stream",
     "text": [
      "100%|██████████| 227/227 [09:10<00:00,  2.42s/it]\n",
      "  0%|          | 0/227 [00:00<?, ?it/s]"
     ]
    },
    {
     "name": "stdout",
     "output_type": "stream",
     "text": [
      "[65/100] train loss: 3.30, valid loss: 4.37  [9m10s] \n"
     ]
    },
    {
     "name": "stderr",
     "output_type": "stream",
     "text": [
      "100%|██████████| 227/227 [09:04<00:00,  2.40s/it]\n",
      "  0%|          | 0/227 [00:00<?, ?it/s]"
     ]
    },
    {
     "name": "stdout",
     "output_type": "stream",
     "text": [
      "[66/100] train loss: 3.28, valid loss: 4.38  [9m4s] \n"
     ]
    },
    {
     "name": "stderr",
     "output_type": "stream",
     "text": [
      "100%|██████████| 227/227 [09:13<00:00,  2.44s/it]\n",
      "  0%|          | 0/227 [00:00<?, ?it/s]"
     ]
    },
    {
     "name": "stdout",
     "output_type": "stream",
     "text": [
      "[67/100] train loss: 3.29, valid loss: 4.38  [9m13s] \n"
     ]
    },
    {
     "name": "stderr",
     "output_type": "stream",
     "text": [
      "100%|██████████| 227/227 [09:02<00:00,  2.39s/it]\n",
      "  0%|          | 0/227 [00:00<?, ?it/s]"
     ]
    },
    {
     "name": "stdout",
     "output_type": "stream",
     "text": [
      "[68/100] train loss: 3.25, valid loss: 4.36  [9m2s] \n"
     ]
    },
    {
     "name": "stderr",
     "output_type": "stream",
     "text": [
      "100%|██████████| 227/227 [08:55<00:00,  2.36s/it]\n",
      "  0%|          | 0/227 [00:00<?, ?it/s]"
     ]
    },
    {
     "name": "stdout",
     "output_type": "stream",
     "text": [
      "[69/100] train loss: 3.24, valid loss: 4.35  [8m55s] \n"
     ]
    },
    {
     "name": "stderr",
     "output_type": "stream",
     "text": [
      "100%|██████████| 227/227 [08:52<00:00,  2.34s/it]\n",
      "  0%|          | 0/227 [00:00<?, ?it/s]"
     ]
    },
    {
     "name": "stdout",
     "output_type": "stream",
     "text": [
      "[70/100] train loss: 3.24, valid loss: 4.38  [8m52s] \n"
     ]
    },
    {
     "name": "stderr",
     "output_type": "stream",
     "text": [
      "100%|██████████| 227/227 [08:56<00:00,  2.36s/it]\n",
      "  0%|          | 0/227 [00:00<?, ?it/s]"
     ]
    },
    {
     "name": "stdout",
     "output_type": "stream",
     "text": [
      "[71/100] train loss: 3.24, valid loss: 4.36  [8m56s] \n"
     ]
    },
    {
     "name": "stderr",
     "output_type": "stream",
     "text": [
      "100%|██████████| 227/227 [08:50<00:00,  2.34s/it]\n",
      "  0%|          | 0/227 [00:00<?, ?it/s]"
     ]
    },
    {
     "name": "stdout",
     "output_type": "stream",
     "text": [
      "[72/100] train loss: 3.23, valid loss: 4.35  [8m50s] \n"
     ]
    },
    {
     "name": "stderr",
     "output_type": "stream",
     "text": [
      "100%|██████████| 227/227 [08:53<00:00,  2.35s/it]\n"
     ]
    },
    {
     "name": "stdout",
     "output_type": "stream",
     "text": [
      "[73/100] train loss: 3.22, valid loss: 4.38  [8m53s] \n"
     ]
    }
   ],
   "source": [
    "epochs = 100\n",
    "clip = 1\n",
    "criterion = nn.CrossEntropyLoss(ignore_index=PAD_IDX)\n",
    "patience = 10\n",
    "best_loss = float('inf')\n",
    "best_model = None\n",
    "\n",
    "losses_train = []\n",
    "losses_valid = []\n",
    "counter = 0\n",
    "for epoch in range(epochs):\n",
    "\n",
    "    start_time = time.time()\n",
    "\n",
    "    loss_train = train(\n",
    "        model=model, \n",
    "        data=train_iter, \n",
    "        optimizer=optimizer, \n",
    "        criterion=criterion, \n",
    "        clip=clip\n",
    "    )\n",
    "    \n",
    "    elapsed_time = time.time() - start_time\n",
    "    \n",
    "    loss_valid = evaluate(\n",
    "        model=model, \n",
    "        data=valid_iter, \n",
    "        criterion=criterion\n",
    "    )\n",
    "    \n",
    "    print('[{}/{}] train loss: {:.2f}, valid loss: {:.2f}  [{}{:.0f}s] {}'.format(\n",
    "        epoch + 1, epochs,\n",
    "        loss_train, loss_valid,\n",
    "        str(int(math.floor(elapsed_time / 60))) + 'm' if math.floor(elapsed_time / 60) > 0 else '',\n",
    "        elapsed_time % 60,\n",
    "        '**' if best_loss > loss_valid else ''\n",
    "    ))\n",
    "    \n",
    "    if best_loss > loss_valid:\n",
    "        best_loss = loss_valid\n",
    "        best_model = model\n",
    "        counter = 0\n",
    "        \n",
    "    if counter > patience:\n",
    "        break\n",
    "        \n",
    "    counter += 1"
   ]
  },
  {
   "cell_type": "code",
   "execution_count": 33,
   "id": "8a9c9b0e-014c-40d9-bcba-a739b86a5869",
   "metadata": {},
   "outputs": [],
   "source": [
    "def translate(\n",
    "    model, text, vocab_src, vocab_trg, tokenizer_src, max_seq_length_trg\n",
    "):\n",
    "    \n",
    "    tokens = [BOS_IDX] + [vocab_src.stoi[tok] for tok in tokenizer_src(text)] + [EOS_IDX]\n",
    "    num_tokens = len(tokens)\n",
    "    src = (torch.LongTensor(tokens).reshape(num_tokens, 1) )\n",
    "    \n",
    "    model.eval()\n",
    "    predict_words = greedy_decode(\n",
    "        model=model, src=src, vocab_trg=vocab_trg,\n",
    "        max_seq_length_trg=max_seq_length_trg\n",
    "    )\n",
    "    return ' '.join(predict_words)\n",
    "\n",
    "\n",
    "def greedy_decode(model, src, vocab_trg, max_seq_length_trg):\n",
    "    \n",
    "    state = model.encoder(src)\n",
    "\n",
    "    predict_words = []\n",
    "    output = torch.tensor([BOS_IDX])\n",
    "    for t in range(1, max_seq_length_trg):\n",
    "        output, state = model.decoder(output, state)\n",
    "        output = output.max(1)[1]\n",
    "        if output == EOS_IDX:\n",
    "            break\n",
    "        predict_words.append(vocab_trg.itos[output])\n",
    "\n",
    "    return predict_words"
   ]
  },
  {
   "cell_type": "code",
   "execution_count": 34,
   "id": "ff8d64ed-7940-482d-987d-9b5b81c043cf",
   "metadata": {},
   "outputs": [
    {
     "data": {
      "text/plain": [
       "'A crowd of a a a . .'"
      ]
     },
     "execution_count": 34,
     "metadata": {},
     "output_type": "execute_result"
    }
   ],
   "source": [
    "text = \"Eine Gruppe von Menschen steht vor einem Iglu .\"\n",
    "translate(\n",
    "    model=best_model, text=text, vocab_src=de_vocab,\n",
    "    vocab_trg=en_vocab, tokenizer_src=de_tokenizer,\n",
    "    max_seq_length_trg=100\n",
    ")"
   ]
  },
  {
   "cell_type": "code",
   "execution_count": 37,
   "id": "b38b6f65-60f1-4d80-95cf-06b9a056eb28",
   "metadata": {},
   "outputs": [],
   "source": [
    "model=best_model\n",
    "text=text\n",
    "vocab_src=de_vocab\n",
    "vocab_trg=en_vocab\n",
    "tokenizer_src=de_tokenizer"
   ]
  },
  {
   "cell_type": "code",
   "execution_count": 38,
   "id": "cf135130-52e8-4e28-8329-9cb07dae1b77",
   "metadata": {},
   "outputs": [],
   "source": [
    "tokens = [BOS_IDX] + [vocab_src.stoi[tok] for tok in tokenizer_src(text)] + [EOS_IDX]\n",
    "num_tokens = len(tokens)\n",
    "src = (torch.LongTensor(tokens).reshape(num_tokens, 1) )"
   ]
  },
  {
   "cell_type": "code",
   "execution_count": 40,
   "id": "9dafd528-da33-4e1a-94fb-90d65ba75eb0",
   "metadata": {},
   "outputs": [
    {
     "data": {
      "text/plain": [
       "Seq2Seq(\n",
       "  (encoder): Encoder(\n",
       "    (embedding): Embedding(19215, 32, padding_idx=1)\n",
       "    (dropout): Dropout(p=0.5, inplace=False)\n",
       "    (rnn): LSTM(32, 64)\n",
       "  )\n",
       "  (decoder): Decoder(\n",
       "    (embedding): Embedding(10838, 32, padding_idx=1)\n",
       "    (rnn): LSTM(32, 64)\n",
       "    (dropout): Dropout(p=0.5, inplace=False)\n",
       "    (out): Linear(in_features=64, out_features=10838, bias=True)\n",
       "  )\n",
       ")"
      ]
     },
     "execution_count": 40,
     "metadata": {},
     "output_type": "execute_result"
    }
   ],
   "source": [
    "model.eval()"
   ]
  },
  {
   "cell_type": "code",
   "execution_count": 41,
   "id": "9eea054d-7048-41da-b62e-6d79185a915e",
   "metadata": {},
   "outputs": [],
   "source": [
    "state = model.encoder(src)"
   ]
  },
  {
   "cell_type": "code",
   "execution_count": 43,
   "id": "0f24b5c6-4cac-4a70-984c-51283ce40907",
   "metadata": {},
   "outputs": [],
   "source": [
    "output = torch.tensor([BOS_IDX])"
   ]
  },
  {
   "cell_type": "code",
   "execution_count": 45,
   "id": "6e30275a-ec79-458f-8f78-76efa8366089",
   "metadata": {},
   "outputs": [],
   "source": [
    "output, state = model.decoder(output, state)"
   ]
  },
  {
   "cell_type": "code",
   "execution_count": 49,
   "id": "0f530508-b525-43cf-a938-688116f09cb2",
   "metadata": {},
   "outputs": [],
   "source": [
    "output = output.max(1)[1]"
   ]
  },
  {
   "cell_type": "code",
   "execution_count": 51,
   "id": "81fa803c-7fb4-4429-b755-2041d702b58e",
   "metadata": {},
   "outputs": [],
   "source": [
    "output, state = model.decoder(output, state)"
   ]
  },
  {
   "cell_type": "code",
   "execution_count": 56,
   "id": "5f072a1a-28bc-4d1e-8618-ff269c9dc158",
   "metadata": {},
   "outputs": [
    {
     "data": {
      "text/plain": [
       "tensor([94])"
      ]
     },
     "execution_count": 56,
     "metadata": {},
     "output_type": "execute_result"
    }
   ],
   "source": [
    "output.max(1)[1]"
   ]
  },
  {
   "cell_type": "code",
   "execution_count": 57,
   "id": "65703668-da6e-45ed-99a5-d95056842c50",
   "metadata": {},
   "outputs": [
    {
     "data": {
      "text/plain": [
       "'crowd'"
      ]
     },
     "execution_count": 57,
     "metadata": {},
     "output_type": "execute_result"
    }
   ],
   "source": [
    "en_vocab.itos[94]"
   ]
  },
  {
   "cell_type": "code",
   "execution_count": null,
   "id": "52fd153c-9bc6-45b6-b731-11d83b5e4da6",
   "metadata": {},
   "outputs": [],
   "source": []
  }
 ],
 "metadata": {
  "kernelspec": {
   "display_name": "Python 3",
   "language": "python",
   "name": "python3"
  },
  "language_info": {
   "codemirror_mode": {
    "name": "ipython",
    "version": 3
   },
   "file_extension": ".py",
   "mimetype": "text/x-python",
   "name": "python",
   "nbconvert_exporter": "python",
   "pygments_lexer": "ipython3",
   "version": "3.9.4"
  }
 },
 "nbformat": 4,
 "nbformat_minor": 5
}
