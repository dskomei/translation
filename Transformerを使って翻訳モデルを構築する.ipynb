{
 "cells": [
  {
   "cell_type": "markdown",
   "id": "094aca8a-d537-4336-b173-6a30cc46260e",
   "metadata": {},
   "source": [
    "# Transformerを使った翻訳モデルを構築する"
   ]
  },
  {
   "cell_type": "code",
   "execution_count": 4,
   "id": "1763cd7a-aefc-4db2-b33c-68d94e2c97b8",
   "metadata": {},
   "outputs": [],
   "source": [
    "from pathlib import Path\n",
    "import math\n",
    "import time\n",
    "from collections import Counter\n",
    "from tqdm import tqdm\n",
    "import torch\n",
    "import torch.nn as nn\n",
    "from torch import Tensor\n",
    "from torch.nn import (\n",
    "    TransformerEncoder, TransformerDecoder,\n",
    "    TransformerEncoderLayer, TransformerDecoderLayer\n",
    ")\n",
    "from torch.nn.utils.rnn import pad_sequence\n",
    "from torch.utils.data import DataLoader\n",
    "from torchtext.data.utils import get_tokenizer\n",
    "from torchtext.vocab import Vocab\n",
    "from torchtext.utils import download_from_url, extract_archive"
   ]
  },
  {
   "cell_type": "code",
   "execution_count": 5,
   "id": "6ea0a72a-743b-4291-92d0-3dfa3377b8ac",
   "metadata": {},
   "outputs": [
    {
     "name": "stdout",
     "output_type": "stream",
     "text": [
      "The autoreload extension is already loaded. To reload it, use:\n",
      "  %reload_ext autoreload\n"
     ]
    }
   ],
   "source": [
    "%load_ext autoreload\n",
    "%autoreload 2\n",
    "torch.set_printoptions(linewidth=100)"
   ]
  },
  {
   "cell_type": "markdown",
   "id": "4e663e28-a734-4471-af11-4d3587f14ea3",
   "metadata": {},
   "source": [
    "## パラメータの設定"
   ]
  },
  {
   "cell_type": "code",
   "execution_count": 6,
   "id": "4353aff0-c6cd-4094-ba27-04b49de6479a",
   "metadata": {},
   "outputs": [],
   "source": [
    "device = torch.device('cuda:0' if torch.cuda.is_available() else 'cpu')\n",
    "\n",
    "model_dir_path = Path('model')\n",
    "if not model_dir_path.exists():\n",
    "    model_dir_path.mkdir(parents=True)"
   ]
  },
  {
   "cell_type": "markdown",
   "id": "dcb949b3-7f30-4f90-8191-81d2933f6628",
   "metadata": {},
   "source": [
    "## データの取得"
   ]
  },
  {
   "cell_type": "markdown",
   "id": "e673a93f",
   "metadata": {},
   "source": [
    "### 翻訳データの取得"
   ]
  },
  {
   "cell_type": "code",
   "execution_count": 7,
   "id": "c7e89109-7abf-48b4-acf2-2d824f8f74e7",
   "metadata": {},
   "outputs": [],
   "source": [
    "url_base = 'https://raw.githubusercontent.com/multi30k/dataset/master/data/task1/raw/'\n",
    "train_urls = ('train.de.gz', 'train.en.gz')\n",
    "val_urls = ('val.de.gz', 'val.en.gz')\n",
    "\n",
    "file_paths_train = [extract_archive(download_from_url(url_base + url))[0] for url in train_urls]\n",
    "file_paths_valid = [extract_archive(download_from_url(url_base + url))[0] for url in val_urls]"
   ]
  },
  {
   "cell_type": "code",
   "execution_count": 8,
   "id": "91e1fa5b-af84-4369-bce5-e22801c7640f",
   "metadata": {},
   "outputs": [],
   "source": [
    "def read_texts(file_path):\n",
    "    with open(file_path, 'r') as file:\n",
    "        texts = file.readlines()\n",
    "    return texts\n",
    "\n",
    "texts_src_train = read_texts(file_paths_train[0])\n",
    "texts_tgt_train = read_texts(file_paths_train[1])\n",
    "texts_src_valid = read_texts(file_paths_valid[0])\n",
    "texts_tgt_valid = read_texts(file_paths_valid[1])"
   ]
  },
  {
   "cell_type": "code",
   "execution_count": 9,
   "id": "14dc4530",
   "metadata": {},
   "outputs": [
    {
     "name": "stdout",
     "output_type": "stream",
     "text": [
      "Zwei junge weiße Männer sind im Freien in der Nähe vieler Büsche.\n",
      "↓\n",
      "Two young, White males are outside near many bushes.\n",
      "\n",
      "Mehrere Männer mit Schutzhelmen bedienen ein Antriebsradsystem.\n",
      "↓\n",
      "Several men in hard hats are operating a giant pulley system.\n",
      "\n",
      "Ein kleines Mädchen klettert in ein Spielhaus aus Holz.\n",
      "↓\n",
      "A little girl climbing into a wooden playhouse.\n",
      "\n"
     ]
    }
   ],
   "source": [
    "for src, tgt in zip(texts_src_train[:3], texts_tgt_train[:3]):\n",
    "    print(src.strip('\\n'))\n",
    "    print('↓')\n",
    "    print(tgt.strip('\\n'))\n",
    "    print('')"
   ]
  },
  {
   "cell_type": "markdown",
   "id": "e28311a9-e23e-42eb-99f8-29ee9362a7ad",
   "metadata": {},
   "source": [
    "### テキストの辞書化とベクトル化"
   ]
  },
  {
   "cell_type": "code",
   "execution_count": 12,
   "id": "af273b8b",
   "metadata": {},
   "outputs": [],
   "source": [
    "tokenizer_src = get_tokenizer('spacy', language='de_core_news_sm')\n",
    "tokenizer_tgt = get_tokenizer('spacy', language='en_core_web_sm')"
   ]
  },
  {
   "cell_type": "code",
   "execution_count": 13,
   "id": "7427077a-2839-4c59-9dd3-d248df57a1f8",
   "metadata": {},
   "outputs": [],
   "source": [
    "def build_vocab(texts, tokenizer):\n",
    "    \n",
    "    counter = Counter()\n",
    "    for text in texts:\n",
    "        counter.update(tokenizer(text))\n",
    "    return Vocab(counter, specials=['<unk>', '<pad>', '<start>', '<end>'])"
   ]
  },
  {
   "cell_type": "code",
   "execution_count": 14,
   "id": "1bf11418-2420-498e-9f90-c8554e04b0c8",
   "metadata": {},
   "outputs": [],
   "source": [
    "vocab_src = build_vocab(texts_src_train, tokenizer_src)\n",
    "vocab_tgt = build_vocab(texts_tgt_train, tokenizer_tgt)"
   ]
  },
  {
   "cell_type": "code",
   "execution_count": 15,
   "id": "6ee16ad8-c92c-4745-b1d0-b421113e2c72",
   "metadata": {},
   "outputs": [
    {
     "name": "stdout",
     "output_type": "stream",
     "text": [
      "Char: <unk>    → Index: 0 \n",
      "Char: <pad>    → Index: 1 \n",
      "Char: <start>  → Index: 2 \n",
      "Char: <end>    → Index: 3 \n",
      "Char: \n",
      "        → Index: 4 \n",
      "Char: .        → Index: 5 \n",
      "Char: Ein      → Index: 6 \n",
      "Char: einem    → Index: 7 \n",
      "Char: in       → Index: 8 \n",
      "Char: ,        → Index: 9 \n",
      "Char: und      → Index: 10\n",
      "Char: mit      → Index: 11\n",
      "Char: auf      → Index: 12\n",
      "Char: Mann     → Index: 13\n",
      "Char: einer    → Index: 14\n"
     ]
    }
   ],
   "source": [
    "for char, index in list(vocab_src.stoi.items())[:15]:\n",
    "    print('Char: {: <8} → Index: {: <2}'.format(char, index))"
   ]
  },
  {
   "cell_type": "markdown",
   "id": "bc253e21-36a8-40a4-a5fc-7a547219e79d",
   "metadata": {},
   "source": [
    "#### テキストデータのベクトル化"
   ]
  },
  {
   "cell_type": "code",
   "execution_count": 16,
   "id": "d88e2ffd-77e0-4d59-8e73-d9263fa80ee3",
   "metadata": {},
   "outputs": [],
   "source": [
    "def data_process(texts_src, texts_tgt, vocab_src, vocab_tgt, tokenizer_src, tokenizer_tgt):\n",
    "    \n",
    "    data = []\n",
    "    for (src, tgt) in zip(texts_src, texts_tgt):\n",
    "        src_tensor = torch.tensor(\n",
    "            convert_text_to_indexes(text=src, vocab=vocab_src, tokenizer=tokenizer_src),\n",
    "            dtype=torch.long\n",
    "        )\n",
    "        tgt_tensor = torch.tensor(\n",
    "            convert_text_to_indexes(text=tgt, vocab=vocab_tgt, tokenizer=tokenizer_tgt),\n",
    "            dtype=torch.long\n",
    "        )\n",
    "        data.append((src_tensor, tgt_tensor))\n",
    "        \n",
    "    return data"
   ]
  },
  {
   "cell_type": "code",
   "execution_count": 17,
   "id": "6231fafd-01cc-41fc-94e8-62b7fdc60da5",
   "metadata": {},
   "outputs": [],
   "source": [
    "def convert_text_to_indexes(text, vocab, tokenizer):\n",
    "    return [vocab['<start>']] + [\n",
    "        vocab[token] for token in tokenizer(text.strip(\"\\n\"))\n",
    "    ] + [vocab['<end>']]"
   ]
  },
  {
   "cell_type": "code",
   "execution_count": 18,
   "id": "7836949a-aa98-42b4-8362-90da6d050b01",
   "metadata": {},
   "outputs": [],
   "source": [
    "train_data = data_process(\n",
    "    texts_src=texts_src_train, texts_tgt=texts_tgt_train,\n",
    "    vocab_src=vocab_src, vocab_tgt=vocab_tgt,\n",
    "    tokenizer_src=tokenizer_src, tokenizer_tgt=tokenizer_tgt\n",
    ")\n",
    "valid_data = data_process(\n",
    "    texts_src=texts_src_valid, texts_tgt=texts_tgt_valid,\n",
    "    vocab_src=vocab_src, vocab_tgt=vocab_tgt,\n",
    "    tokenizer_src=tokenizer_src, tokenizer_tgt=tokenizer_tgt\n",
    ")"
   ]
  },
  {
   "cell_type": "code",
   "execution_count": 19,
   "id": "809612db-ee49-4ace-bcd6-88b7d30a1e16",
   "metadata": {},
   "outputs": [
    {
     "name": "stdout",
     "output_type": "stream",
     "text": [
      "インデックス化された文章\n",
      "Input: tensor([   2,   22,   86,  258,   32,   88,   23,   95,    8,   17,  113, 7911, 3210,    5,    3])\n",
      "Output: tensor([   2,   20,   26,   16, 1170,  809,   18,   58,   85,  337, 1340,    6,    3])\n",
      "\n",
      "インデックス化された文章をもとに戻す\n",
      "Input: <start> Zwei junge weiße Männer sind im Freien in der Nähe vieler Büsche . <end>\n",
      "Output: <start> Two young , White males are outside near many bushes . <end>\n"
     ]
    }
   ],
   "source": [
    "print('インデックス化された文章')\n",
    "print('Input: {}\\nOutput: {}'.format(train_data[0][0], train_data[0][1]))\n",
    "print('')\n",
    "\n",
    "print('インデックス化された文章をもとに戻す')\n",
    "print('Input: {}\\nOutput: {}'.format(\n",
    "    ' '.join([vocab_src.itos[x] for x in train_data[0][0]]),\n",
    "    ' '.join([vocab_tgt.itos[x] for x in train_data[0][1]])\n",
    "))"
   ]
  },
  {
   "cell_type": "code",
   "execution_count": 20,
   "id": "30a9e989-a00a-4842-9be0-3d53774efddb",
   "metadata": {},
   "outputs": [],
   "source": [
    "batch_size = 128\n",
    "PAD_IDX = vocab_src['<pad>']\n",
    "START_IDX = vocab_src['<start>']\n",
    "END_IDX = vocab_src['<end>']\n",
    "\n",
    "def generate_batch(data_batch):\n",
    "    \n",
    "    batch_src, batch_tgt = [], []\n",
    "    for src, tgt in data_batch:\n",
    "        batch_src.append(src)\n",
    "        batch_tgt.append(tgt)\n",
    "        \n",
    "    batch_src = pad_sequence(batch_src, padding_value=PAD_IDX)\n",
    "    batch_tgt = pad_sequence(batch_tgt, padding_value=PAD_IDX)\n",
    "    \n",
    "    return batch_src, batch_tgt\n",
    "\n",
    "train_iter = DataLoader(train_data, batch_size=batch_size, shuffle=True, collate_fn=generate_batch)\n",
    "valid_iter = DataLoader(valid_data, batch_size=batch_size, shuffle=True, collate_fn=generate_batch)"
   ]
  },
  {
   "cell_type": "code",
   "execution_count": 21,
   "id": "126092a4-8a95-4a36-8a19-6df3640811a4",
   "metadata": {},
   "outputs": [
    {
     "data": {
      "text/plain": [
       "(tensor([[  2,   2,   2,  ...,   2,   2,   2],\n",
       "         [ 22,   6,   6,  ...,   6,   6,   6],\n",
       "         [115,  13,  13,  ..., 135,  36,  13],\n",
       "         ...,\n",
       "         [  1,   1,   1,  ...,   1,   1,   3],\n",
       "         [  1,   1,   1,  ...,   1,   1,   1],\n",
       "         [  1,   1,   1,  ...,   1,   1,   1]]),\n",
       " tensor([[  2,   2,   2,  ...,   2,   2,   2],\n",
       "         [ 20,   7,   7,  ...,   7,   7,   7],\n",
       "         [ 26, 182,  13,  ..., 246,  26,  13],\n",
       "         ...,\n",
       "         [  1,   1,   1,  ...,   1,   6,   1],\n",
       "         [  1,   1,   1,  ...,   1,   3,   1],\n",
       "         [  1,   1,   1,  ...,   1,   1,   1]]))"
      ]
     },
     "execution_count": 21,
     "metadata": {},
     "output_type": "execute_result"
    }
   ],
   "source": [
    "list(train_iter)[0]"
   ]
  },
  {
   "cell_type": "markdown",
   "id": "11357502-9513-4ba6-a480-22e0d71dee23",
   "metadata": {},
   "source": [
    "## Transoformerの設定"
   ]
  },
  {
   "cell_type": "code",
   "execution_count": 22,
   "id": "fed238be-60fa-45c8-b39a-23090d729ead",
   "metadata": {},
   "outputs": [],
   "source": [
    "class Seq2SeqTransformer(nn.Module):\n",
    "    \n",
    "    def __init__(\n",
    "        self, num_encoder_layers: int, num_decoder_layers: int,\n",
    "        embedding_size: int, vocab_size_src: int, vocab_size_tgt: int,\n",
    "        dim_feedforward:int = 512, dropout:float = 0.1, nhead:int = 8\n",
    "    ):\n",
    "        \n",
    "        super(Seq2SeqTransformer, self).__init__()\n",
    "\n",
    "        self.token_embedding_src = TokenEmbedding(vocab_size_src, embedding_size)\n",
    "        self.positional_encoding = PositionalEncoding(embedding_size, dropout=dropout)\n",
    "        encoder_layer = TransformerEncoderLayer(\n",
    "            d_model=embedding_size, nhead=nhead, dim_feedforward=dim_feedforward\n",
    "        )\n",
    "        self.transformer_encoder = TransformerEncoder(encoder_layer, num_layers=num_encoder_layers)\n",
    "        \n",
    "        self.token_embedding_tgt = TokenEmbedding(vocab_size_tgt, embedding_size)\n",
    "        decoder_layer = TransformerDecoderLayer(\n",
    "            d_model=embedding_size, nhead=nhead, dim_feedforward=dim_feedforward\n",
    "        )\n",
    "        self.transformer_decoder = TransformerDecoder(decoder_layer, num_layers=num_decoder_layers)\n",
    "        \n",
    "        self.output = nn.Linear(embedding_size, vocab_size_tgt)\n",
    "\n",
    "    def forward(\n",
    "        self, src: Tensor, tgt: Tensor,\n",
    "        mask_src: Tensor, mask_tgt: Tensor,\n",
    "        padding_mask_src: Tensor, padding_mask_tgt: Tensor,\n",
    "        memory_key_padding_mask: Tensor\n",
    "    ):\n",
    "        \n",
    "        embedding_src = self.positional_encoding(self.token_embedding_src(src))\n",
    "        memory = self.transformer_encoder(embedding_src, mask_src, padding_mask_src)\n",
    "        embedding_tgt = self.positional_encoding(self.token_embedding_tgt(tgt))\n",
    "        outs = self.transformer_decoder(\n",
    "            embedding_tgt, memory, mask_tgt, None,\n",
    "            padding_mask_tgt, memory_key_padding_mask\n",
    "        )\n",
    "        return self.output(outs)\n",
    "\n",
    "    def encode(self, src: Tensor, mask_src: Tensor):\n",
    "        return self.transformer_encoder(self.positional_encoding(self.token_embedding_src(src)), mask_src)\n",
    "\n",
    "    def decode(self, tgt: Tensor, memory: Tensor, mask_tgt: Tensor):\n",
    "        return self.transformer_decoder(self.positional_encoding(self.token_embedding_tgt(tgt)), memory, mask_tgt)"
   ]
  },
  {
   "cell_type": "code",
   "execution_count": 23,
   "id": "e929de49-02cd-445a-b951-7a80644cfaa8",
   "metadata": {},
   "outputs": [],
   "source": [
    "class TokenEmbedding(nn.Module):\n",
    "    \n",
    "    def __init__(self, vocab_size, embedding_size):\n",
    "        \n",
    "        super(TokenEmbedding, self).__init__()\n",
    "        self.embedding = nn.Embedding(vocab_size, embedding_size)\n",
    "        self.embedding_size = embedding_size\n",
    "        \n",
    "    def forward(self, tokens: Tensor):\n",
    "        return self.embedding(tokens.long()) * math.sqrt(self.embedding_size)\n",
    "    \n",
    "    \n",
    "class PositionalEncoding(nn.Module):\n",
    "    \n",
    "    def __init__(self, embedding_size: int, dropout: float, maxlen: int = 5000):\n",
    "        super(PositionalEncoding, self).__init__()\n",
    "        \n",
    "        den = torch.exp(-torch.arange(0, embedding_size, 2) * math.log(10000) / embedding_size)\n",
    "        pos = torch.arange(0, maxlen).reshape(maxlen, 1)\n",
    "        embedding_pos = torch.zeros((maxlen, embedding_size))\n",
    "        embedding_pos[:, 0::2] = torch.sin(pos * den)\n",
    "        embedding_pos[:, 1::2] = torch.cos(pos * den)\n",
    "        embedding_pos = embedding_pos.unsqueeze(-2)\n",
    "\n",
    "        self.dropout = nn.Dropout(dropout)\n",
    "        self.register_buffer('embedding_pos', embedding_pos)\n",
    "\n",
    "    def forward(self, token_embedding: Tensor):\n",
    "        return self.dropout(token_embedding + self.embedding_pos[: token_embedding.size(0), :])\n"
   ]
  },
  {
   "cell_type": "code",
   "execution_count": 24,
   "id": "775d3f7d-3a09-44c2-af73-6f9465e75847",
   "metadata": {},
   "outputs": [],
   "source": [
    "def create_mask(src, tgt, PAD_IDX):\n",
    "    \n",
    "    seq_len_src = src.shape[0]\n",
    "    seq_len_tgt = tgt.shape[0]\n",
    "\n",
    "    mask_src = torch.zeros((seq_len_src, seq_len_src), device=device).type(torch.bool)\n",
    "    mask_tgt = generate_square_subsequent_mask(seq_len_tgt)\n",
    "\n",
    "    padding_mask_src = (src == PAD_IDX).transpose(0, 1)\n",
    "    padding_mask_tgt = (tgt == PAD_IDX).transpose(0, 1)\n",
    "    \n",
    "    return mask_src, mask_tgt, padding_mask_src, padding_mask_tgt\n",
    "\n",
    "\n",
    "def generate_square_subsequent_mask(seq_len):\n",
    "    mask = (torch.triu(torch.ones((seq_len, seq_len), device=device)) == 1).transpose(0, 1)\n",
    "    mask = mask.float().masked_fill(mask == 0, float('-inf')).masked_fill(mask == 1, float(0.0))\n",
    "    return mask"
   ]
  },
  {
   "cell_type": "markdown",
   "id": "a230325e-791c-4365-bdc9-8a970a4ae2a3",
   "metadata": {},
   "source": [
    "## Transfomerを学習させる"
   ]
  },
  {
   "cell_type": "code",
   "execution_count": 25,
   "id": "1cf2bb86-7fb1-4dac-b155-de8a898f2e07",
   "metadata": {},
   "outputs": [],
   "source": [
    "def train(model, data, optimizer, criterion, PAD_IDX):\n",
    "    \n",
    "    model.train()\n",
    "    losses = 0\n",
    "    for src, tgt in tqdm(data):\n",
    "        \n",
    "        src = src.to(device)\n",
    "        tgt = tgt.to(device)\n",
    "\n",
    "        input_tgt = tgt[:-1, :]\n",
    "\n",
    "        mask_src, mask_tgt, padding_mask_src, padding_mask_tgt = create_mask(src, input_tgt, PAD_IDX)\n",
    "\n",
    "        logits = model(\n",
    "            src=src, tgt=input_tgt,\n",
    "            mask_src=mask_src, mask_tgt=mask_tgt,\n",
    "            padding_mask_src=padding_mask_src, padding_mask_tgt=padding_mask_tgt,\n",
    "            memory_key_padding_mask=padding_mask_src\n",
    "        )\n",
    "\n",
    "        optimizer.zero_grad()\n",
    "\n",
    "        output_tgt = tgt[1:, :]\n",
    "        loss = criterion(logits.reshape(-1, logits.shape[-1]), output_tgt.reshape(-1))\n",
    "        loss.backward()\n",
    "\n",
    "        optimizer.step()\n",
    "        losses += loss.item()\n",
    "        \n",
    "    return losses / len(data)"
   ]
  },
  {
   "cell_type": "code",
   "execution_count": 26,
   "id": "943c8729-0ff3-4a9e-9cf3-415b810b0101",
   "metadata": {},
   "outputs": [],
   "source": [
    "def evaluate(model, data, criterion, PAD_IDX):\n",
    "    \n",
    "    model.eval()\n",
    "    losses = 0\n",
    "    for src, tgt in data:\n",
    "        \n",
    "        src = src.to(device)\n",
    "        tgt = tgt.to(device)\n",
    "\n",
    "        input_tgt = tgt[:-1, :]\n",
    "\n",
    "        mask_src, mask_tgt, padding_mask_src, padding_mask_tgt = create_mask(src, input_tgt, PAD_IDX)\n",
    "\n",
    "        logits = model(\n",
    "            src=src, tgt=input_tgt,\n",
    "            mask_src=mask_src, mask_tgt=mask_tgt,\n",
    "            padding_mask_src=padding_mask_src, padding_mask_tgt=padding_mask_tgt,\n",
    "            memory_key_padding_mask=padding_mask_src\n",
    "        )\n",
    "        \n",
    "        output_tgt = tgt[1:, :]\n",
    "        loss = criterion(logits.reshape(-1, logits.shape[-1]), output_tgt.reshape(-1))\n",
    "        losses += loss.item()\n",
    "        \n",
    "    return losses / len(data)"
   ]
  },
  {
   "cell_type": "code",
   "execution_count": 27,
   "id": "a6bd069f-245f-4ef1-8e6c-9131bd387fdd",
   "metadata": {},
   "outputs": [],
   "source": [
    "vocab_size_src = len(vocab_src)\n",
    "vocab_size_tgt = len(vocab_tgt)\n",
    "embedding_size = 240\n",
    "nhead = 8\n",
    "dim_feedforward = 100\n",
    "num_encoder_layers = 2\n",
    "num_decoder_layers = 2\n",
    "dropout = 0.1\n",
    "\n",
    "model = Seq2SeqTransformer(\n",
    "    num_encoder_layers=num_encoder_layers,\n",
    "    num_decoder_layers=num_decoder_layers,\n",
    "    embedding_size=embedding_size,\n",
    "    vocab_size_src=vocab_size_src, vocab_size_tgt=vocab_size_tgt,\n",
    "    dim_feedforward=dim_feedforward,\n",
    "    dropout=dropout, nhead=nhead\n",
    ")\n",
    "\n",
    "for p in model.parameters():\n",
    "    if p.dim() > 1:\n",
    "        nn.init.xavier_uniform_(p)\n",
    "\n",
    "model = model.to(device)\n",
    "\n",
    "criterion = torch.nn.CrossEntropyLoss(ignore_index=PAD_IDX)\n",
    "\n",
    "optimizer = torch.optim.Adam(model.parameters())"
   ]
  },
  {
   "cell_type": "code",
   "execution_count": 31,
   "id": "f96aa1f0-33db-4b7f-aa7c-d8185a99b3c2",
   "metadata": {},
   "outputs": [
    {
     "name": "stderr",
     "output_type": "stream",
     "text": [
      "100%|██████████| 227/227 [06:33<00:00,  1.74s/it]\n",
      "  0%|          | 0/227 [00:00<?, ?it/s]"
     ]
    },
    {
     "name": "stdout",
     "output_type": "stream",
     "text": [
      "[1/100] train loss: 1.95, valid loss: 1.95  [6m34s] counter: 0 **\n"
     ]
    },
    {
     "name": "stderr",
     "output_type": "stream",
     "text": [
      "100%|██████████| 227/227 [06:39<00:00,  1.76s/it]\n",
      "  0%|          | 0/227 [00:00<?, ?it/s]"
     ]
    },
    {
     "name": "stdout",
     "output_type": "stream",
     "text": [
      "[2/100] train loss: 1.47, valid loss: 1.86  [6m40s] counter: 1 **\n"
     ]
    },
    {
     "name": "stderr",
     "output_type": "stream",
     "text": [
      "100%|██████████| 227/227 [06:41<00:00,  1.77s/it]\n",
      "  0%|          | 0/227 [00:00<?, ?it/s]"
     ]
    },
    {
     "name": "stdout",
     "output_type": "stream",
     "text": [
      "[3/100] train loss: 1.16, valid loss: 1.90  [6m42s] counter: 1 \n"
     ]
    },
    {
     "name": "stderr",
     "output_type": "stream",
     "text": [
      "100%|██████████| 227/227 [06:41<00:00,  1.77s/it]\n",
      "  0%|          | 0/227 [00:00<?, ?it/s]"
     ]
    },
    {
     "name": "stdout",
     "output_type": "stream",
     "text": [
      "[4/100] train loss: 0.93, valid loss: 1.95  [6m41s] counter: 2 \n"
     ]
    },
    {
     "name": "stderr",
     "output_type": "stream",
     "text": [
      "100%|██████████| 227/227 [07:02<00:00,  1.86s/it]\n",
      "  0%|          | 0/227 [00:00<?, ?it/s]"
     ]
    },
    {
     "name": "stdout",
     "output_type": "stream",
     "text": [
      "[5/100] train loss: 0.76, valid loss: 2.01  [7m3s] counter: 3 \n"
     ]
    },
    {
     "name": "stderr",
     "output_type": "stream",
     "text": [
      "100%|██████████| 227/227 [06:55<00:00,  1.83s/it]\n",
      "  0%|          | 0/227 [00:00<?, ?it/s]"
     ]
    },
    {
     "name": "stdout",
     "output_type": "stream",
     "text": [
      "[6/100] train loss: 0.65, valid loss: 2.12  [6m55s] counter: 4 \n"
     ]
    },
    {
     "name": "stderr",
     "output_type": "stream",
     "text": [
      "100%|██████████| 227/227 [06:53<00:00,  1.82s/it]\n",
      "  0%|          | 0/227 [00:00<?, ?it/s]"
     ]
    },
    {
     "name": "stdout",
     "output_type": "stream",
     "text": [
      "[7/100] train loss: 0.57, valid loss: 2.15  [6m54s] counter: 5 \n"
     ]
    },
    {
     "name": "stderr",
     "output_type": "stream",
     "text": [
      "100%|██████████| 227/227 [06:58<00:00,  1.84s/it]\n",
      "  0%|          | 0/227 [00:00<?, ?it/s]"
     ]
    },
    {
     "name": "stdout",
     "output_type": "stream",
     "text": [
      "[8/100] train loss: 0.50, valid loss: 2.22  [6m59s] counter: 6 \n"
     ]
    },
    {
     "name": "stderr",
     "output_type": "stream",
     "text": [
      "100%|██████████| 227/227 [07:06<00:00,  1.88s/it]\n",
      "  0%|          | 0/227 [00:00<?, ?it/s]"
     ]
    },
    {
     "name": "stdout",
     "output_type": "stream",
     "text": [
      "[9/100] train loss: 0.45, valid loss: 2.27  [7m6s] counter: 7 \n"
     ]
    },
    {
     "name": "stderr",
     "output_type": "stream",
     "text": [
      "100%|██████████| 227/227 [07:06<00:00,  1.88s/it]\n",
      "  0%|          | 0/227 [00:00<?, ?it/s]"
     ]
    },
    {
     "name": "stdout",
     "output_type": "stream",
     "text": [
      "[10/100] train loss: 0.40, valid loss: 2.37  [7m7s] counter: 8 \n"
     ]
    },
    {
     "name": "stderr",
     "output_type": "stream",
     "text": [
      "100%|██████████| 227/227 [07:01<00:00,  1.86s/it]\n",
      "  0%|          | 0/227 [00:00<?, ?it/s]"
     ]
    },
    {
     "name": "stdout",
     "output_type": "stream",
     "text": [
      "[11/100] train loss: 0.37, valid loss: 2.41  [7m2s] counter: 9 \n"
     ]
    },
    {
     "name": "stderr",
     "output_type": "stream",
     "text": [
      "100%|██████████| 227/227 [07:02<00:00,  1.86s/it]\n",
      "  0%|          | 0/227 [00:00<?, ?it/s]"
     ]
    },
    {
     "name": "stdout",
     "output_type": "stream",
     "text": [
      "[12/100] train loss: 0.34, valid loss: 2.49  [7m3s] counter: 10 \n"
     ]
    },
    {
     "name": "stderr",
     "output_type": "stream",
     "text": [
      "100%|██████████| 227/227 [07:05<00:00,  1.88s/it]\n"
     ]
    },
    {
     "name": "stdout",
     "output_type": "stream",
     "text": [
      "[13/100] train loss: 0.32, valid loss: 2.51  [7m6s] counter: 11 \n"
     ]
    }
   ],
   "source": [
    "epoch = 100\n",
    "best_loss = float('Inf')\n",
    "best_model = None\n",
    "patience = 10\n",
    "counter = 0\n",
    "\n",
    "for loop in range(1, epoch + 1):\n",
    "    \n",
    "    start_time = time.time()\n",
    "    \n",
    "    loss_train = train(\n",
    "        model=model, data=train_iter, optimizer=optimizer,\n",
    "        criterion=criterion, PAD_IDX=PAD_IDX\n",
    "    )\n",
    "    \n",
    "    elapsed_time = time.time() - start_time\n",
    "    \n",
    "    loss_valid = evaluate(\n",
    "        model=model, data=valid_iter, criterion=criterion, PAD_IDX=PAD_IDX\n",
    "    )\n",
    "    \n",
    "    print('[{}/{}] train loss: {:.2f}, valid loss: {:.2f}  [{}{:.0f}s] counter: {} {}'.format(\n",
    "        loop, epoch,\n",
    "        loss_train, loss_valid,\n",
    "        str(int(math.floor(elapsed_time / 60))) + 'm' if math.floor(elapsed_time / 60) > 0 else '',\n",
    "        elapsed_time % 60,\n",
    "        counter,\n",
    "        '**' if best_loss > loss_valid else ''\n",
    "    ))\n",
    "    \n",
    "    if best_loss > loss_valid:\n",
    "        best_loss = loss_valid\n",
    "        best_model = model\n",
    "        counter = 0\n",
    "        \n",
    "    if counter > patience:\n",
    "        break\n",
    "    \n",
    "    counter += 1"
   ]
  },
  {
   "cell_type": "markdown",
   "id": "3ec2859e-f1e9-488b-adbc-289de20490c3",
   "metadata": {},
   "source": [
    "### 学習したモデルの保存"
   ]
  },
  {
   "cell_type": "code",
   "execution_count": 21,
   "id": "f8f2eecd-321e-4296-9807-b70bd3b90951",
   "metadata": {},
   "outputs": [],
   "source": [
    "torch.save(best_model.state_dict(), model_dir_path.joinpath('translation_transfomer.pth'))"
   ]
  },
  {
   "cell_type": "markdown",
   "id": "6bc55c94-c200-4e1f-804f-ef0255d51f45",
   "metadata": {},
   "source": [
    "## 学習したモデルを使って翻訳をする"
   ]
  },
  {
   "cell_type": "code",
   "execution_count": 35,
   "id": "e8c56d99-236b-41b5-a764-9456bc40f939",
   "metadata": {
    "tags": []
   },
   "outputs": [],
   "source": [
    "def translate(\n",
    "    model, text, vocab_src, vocab_tgt, tokenizer_src, seq_len_tgt,\n",
    "    START_IDX, END_IDX\n",
    "):\n",
    "    \n",
    "    model.eval()\n",
    "    tokens = convert_text_to_indexes(text=text, vocab=vocab_src, tokenizer=tokenizer_src)\n",
    "    num_tokens = len(tokens)\n",
    "    src = torch.LongTensor(tokens).reshape(num_tokens, 1)\n",
    "    mask_src = (torch.zeros(num_tokens, num_tokens)).type(torch.bool)\n",
    "    \n",
    "    predicts = greedy_decode(\n",
    "        model=model, src=src,\n",
    "        mask_src=mask_src, seq_len_tgt=seq_len_tgt,\n",
    "        START_IDX=START_IDX, END_IDX=END_IDX\n",
    "    ).flatten()\n",
    "    \n",
    "    return ' '.join([vocab_tgt.itos[token] for token in predicts]).replace(\"<start>\", \"\").replace(\"<end>\", \"\")\n",
    "\n",
    "\n",
    "def greedy_decode(model, src, mask_src, seq_len_tgt, START_IDX, END_IDX):\n",
    "    \n",
    "    src = src.to(device)\n",
    "    mask_src = mask_src.to(device)\n",
    "\n",
    "    memory = model.encode(src, mask_src)\n",
    "    memory = model.transformer_encoder(model.positional_encoding(model.token_embedding_src(src)), mask_src)\n",
    "    ys = torch.ones(1, 1).fill_(START_IDX).type(torch.long).to(device)\n",
    "    \n",
    "    for i in range(seq_len_tgt - 1):\n",
    "        \n",
    "        memory = memory.to(device)\n",
    "        memory_mask = torch.zeros(ys.shape[0], memory.shape[0]).to(device).type(torch.bool)\n",
    "        mask_tgt = (generate_square_subsequent_mask(ys.size(0)).type(torch.bool)).to(device)\n",
    "        \n",
    "        output = model.decode(ys, memory, mask_tgt)\n",
    "        output = output.transpose(0, 1)\n",
    "        output = model.output(output[:, -1])\n",
    "        _, next_word = torch.max(output, dim = 1)\n",
    "        next_word = next_word.item()\n",
    "\n",
    "        ys = torch.cat([ys, torch.ones(1, 1).type_as(src.data).fill_(next_word)], dim=0)\n",
    "        if next_word == END_IDX:\n",
    "            break\n",
    "            \n",
    "    return ys"
   ]
  },
  {
   "cell_type": "code",
   "execution_count": 33,
   "id": "cdb6293c-d742-4620-b9bd-cbbcfb8354e0",
   "metadata": {},
   "outputs": [],
   "source": [
    "seq_len_tgt = max([len(x[1]) for x in train_data])"
   ]
  },
  {
   "cell_type": "code",
   "execution_count": 36,
   "id": "70b1def7-ce0d-408d-893d-0a8462da03b6",
   "metadata": {},
   "outputs": [
    {
     "data": {
      "text/plain": [
       "' A group of people stand in front of an igloo . '"
      ]
     },
     "execution_count": 36,
     "metadata": {},
     "output_type": "execute_result"
    }
   ],
   "source": [
    "text = 'Eine Gruppe von Menschen steht vor einem Iglu .'\n",
    "\n",
    "translate(\n",
    "    model=best_model, text=text, vocab_src=vocab_src, vocab_tgt=vocab_tgt,\n",
    "    tokenizer_src=tokenizer_src, seq_len_tgt=seq_len_tgt,\n",
    "    START_IDX=START_IDX, END_IDX=END_IDX\n",
    ")"
   ]
  },
  {
   "cell_type": "code",
   "execution_count": null,
   "id": "15a2250d-0c2d-413c-b213-60914113b7be",
   "metadata": {},
   "outputs": [],
   "source": []
  }
 ],
 "metadata": {
  "kernelspec": {
   "display_name": "Python 3",
   "language": "python",
   "name": "python3"
  },
  "language_info": {
   "codemirror_mode": {
    "name": "ipython",
    "version": 3
   },
   "file_extension": ".py",
   "mimetype": "text/x-python",
   "name": "python",
   "nbconvert_exporter": "python",
   "pygments_lexer": "ipython3",
   "version": "3.9.4"
  }
 },
 "nbformat": 4,
 "nbformat_minor": 5
}
